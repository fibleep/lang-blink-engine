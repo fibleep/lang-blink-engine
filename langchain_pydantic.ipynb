{
 "cells": [
  {
   "cell_type": "code",
   "execution_count": 32,
   "metadata": {},
   "outputs": [
    {
     "name": "stdout",
     "output_type": "stream",
     "text": [
      "index                     Angular Documentation Angular is an applicati...\n",
      "guide/what-is-angular     What is Angular? This topic can help you unde...\n",
      "start/start-routing       Adding navigation This guide builds on the fi...\n",
      "start/start-forms         Using forms for user input This guide builds ...\n",
      "guide/setup-local         Setting up the local environment and workspac...\n",
      "dtype: object\n"
     ]
    }
   ],
   "source": [
    "# Setting up the environment\n",
    "\n",
    "import pandas as pd\n",
    "from dotenv import load_dotenv\n",
    "import os \n",
    "\n",
    "load_dotenv()\n",
    "\n",
    "df: pd.Series = pd.read_json('db.json',typ='series')\n",
    "df = df[:5]\n",
    "\n",
    "from utils.html_tools import extract_text\n",
    "\n",
    "df = df.apply(lambda x: extract_text(x))\n",
    "print(df)\n",
    "from utils.open_ai_tools import parse_to_blink\n",
    "import openai\n",
    "# OpenAI Integration\n",
    "OPENAI_API_KEY = os.environ.get(\"OPENAI_API_KEY\", \"OOPS, please set env var called 'OPEN_AI_API_KEY'\")\n",
    "from langchain.llms import OpenAI"
   ]
  },
  {
   "cell_type": "code",
   "execution_count": 33,
   "metadata": {},
   "outputs": [],
   "source": [
    "from typing import Optional, List\n",
    "from pydantic import BaseModel, Field\n",
    "from enum import Enum\n",
    "\n",
    "class Difficulty(str, Enum):\n",
    "    beginner = \"beginner\"\n",
    "    intermediate = \"intermediate\"\n",
    "    advanced = \"advanced\"\n",
    "\n",
    "class Blink(BaseModel):\n",
    "    title: str = Field(..., example=\"Object Oriented Programming\")\n",
    "    description: str = Field(..., example=\"A programming paradigm based on the concept of objects, which can contain data and code: data in the form of fields, and code, in the form of procedures.\")\n",
    "    code: Optional[str] = Field(..., example=\"class Person:\\n    def __init__(self, name, age):\\n        self.name = name\\n        self.age = age\\n\\np1 = Person(\\\"John\\\", 36)\\nprint(p1.name)\\nprint(p1.age)\")\n",
    "    difficulty: Difficulty = Difficulty.beginner\n",
    "\n",
    "class Blinks(BaseModel):\n",
    "    blinks: List[Blink] = []\n"
   ]
  },
  {
   "cell_type": "code",
   "execution_count": 34,
   "metadata": {},
   "outputs": [],
   "source": [
    "from langchain.chat_models import ChatOpenAI\n",
    "from langchain.schema import HumanMessage\n",
    "import json\n",
    "\n",
    "from utils.open_ai_tools import truncate_text\n",
    "\n",
    "blinks = {}\n",
    "for index, i in enumerate(df.values):\n",
    "    query = HumanMessage(content=i)\n",
    "    llm = ChatOpenAI()\n",
    "    functions = [\n",
    "        {\n",
    "            \"name\": \"get_blinks\",\n",
    "            \"description\": \"Extract blinks from a html page\",\n",
    "            \"parameters\": Blinks.schema()\n",
    "        }\n",
    "    ]\n",
    "    \n",
    "    template = \"\"\"\n",
    "    You are a programming teacher for beginners. You talk only in json and you dont use newline characters outside of json values.\n",
    "    Generate a json response that teaches something and explains a concept from the provided HTML content (make the lesson universal, IMPORTANT! This is used in a 3rd party app, dont make any references to the original docs), I will kill myself if i see anything else. adhering to this JSON structure: \n",
    "    The code can be left empty if it doesnt make sense to have code in the lesson.\n",
    "    Use emojis to make the lesson more fun!\n",
    "    The function get_blinks() should return a list of blinks, each blink should have the following structure:\n",
    "    (\n",
    "    \"title\": \"<title>\",\n",
    "    \"description\": \"<explanation>\", # Make this sound human\n",
    "    \"code\": \"<code>\"\n",
    "    \"difficulty\": \"<beginner | intermediate | advanced>\"\n",
    "    )\n",
    "\n",
    "    HTML content to convert into a blink, each page can have multiple blinks!: {html}\n",
    "    \"\"\"\n",
    "\n",
    "    response = openai.ChatCompletion.create(\n",
    "        model=\"gpt-4\",\n",
    "        messages=[\n",
    "            {\"role\": \"user\", \"content\": template.format(html=query.content)},\n",
    "        ],\n",
    "        functions=functions,\n",
    "        function_call=\"auto\",\n",
    "    )\n",
    "    blinks[index] = response.choices[0].message.function_call.arguments\n",
    "\n"
   ]
  },
  {
   "cell_type": "code",
   "execution_count": 35,
   "metadata": {},
   "outputs": [
    {
     "data": {
      "text/plain": [
       "{0: '{\\n  \"blinks\": [\\n    {\\n      \"title\": \"Introduction to Angular 🚀\",\\n      \"description\": \"Angular is a robust framework for building efficient and complex single-page web apps. It\\'s great for both beginners working on their first app, and professionals who are optimizing elaborate apps for companies. Handy feature: it comes with tutorials and guides, complete with downloadable examples for you to kick-start your projects! 😄\",\\n      \"code\": \"\",\\n      \"difficulty\": \"beginner\"\\n    },\\n    {\\n      \"title\": \"Assumed Knowledge 🧠\",\\n      \"description\": \"Hold up! Before diving into Angular, you should already have a basic understanding of HTML, CSS, JavaScript, and latest standard tools like classes and modules. While the samples they provide are in TypeScript, it\\'s important to know that most Angular code can be written with just the latest JavaScript. So, it\\'s not necessary to be a TypeScript pro to get started! 🤓\",\\n      \"code\": \"\",\\n      \"difficulty\": \"beginner\"\\n    },\\n    {\\n      \"title\": \"The Power of TypeScript in Angular 💪\",\\n      \"description\": \"While you can use just JavaScript for Angular, adopting TypeScript comes with its own perks! TypeScript\\'s types can greatly enhance dependency injection and let you use decorators for metadata, making your code cleaner and more efficient. This might sound tricky, but don\\'t worry, you\\'ll get the hang of it soon enough! 😉\",\\n      \"code\": \"\",\\n      \"difficulty\": \"intermediate\"\\n    },\\n    {\\n      \"title\": \"Feedback & Contributions to Angular 💌\",\\n      \"description\": \"Angular is a community-driven project open to suggestions and feedbacks. Having a problem, or an idea for future docs? Don\\'t hesitate to share it! You can even leave your own mark on Angular by creating pull requests on their GitHub repository. It\\'s a great way to give back and help the community flourish. Remember to always respect and support each other! 😊\",\\n      \"code\": \"\",\\n      \"difficulty\": \"beginner\"\\n    }\\n  ]\\n}',\n",
       " 1: '\\n{\\n  \"blinks\": [\\n    {\\n      \"title\": \"🧠 What is Angular?🤖\",\\n      \"description\": \"Angular is a development platform, built on TypeScript📚. It includes a component-based framework for building scalable web applications🌐, a collection of libraries offering a wide range of features (like routing, forms management, and client-server communication), and developer tools to streamline your code. Use Angular to build projects that can scale from single-developer projects to large enterprise applications.🚀\",\\n      \"code\": \"\",\\n      \"difficulty\": \"beginner\"\\n    },\\n    {\\n      \"title\": \"🧩 Building Blocks of Angular: Components🔨\",\\n      \"description\": \"Components are fundamental to Angular. They\\'re the building blocks that compose an application. A component includes a TypeScript class with Angular-specific information defined by a @Component() decorator, an HTML template, and styles. When applied to an HTML element in your template with a CSS selector, the the element becomes an instance of the component. The decorator also instructs Angular on rendering the component and optionally defines the appearance of the HTML elements in the template🎨.\",\\n      \"code\": \"@Component({\\\\n  selector: \\'hello-world\\',\\\\n  template: `\\\\n    <h2>Hello World</h2>\\\\n    <p>This is my first component!</p>\\\\n  `\\\\n})\\\\nexport class HelloWorldComponent {\\\\n  // The code in this class drives the component\\'s behavior.\\\\n}\",\\n      \"difficulty\": \"beginner\"\\n    },\\n    {\\n      \"title\": \"✨Angular Templates and Bindings🧵\",\\n      \"description\": \"Every Angular component has an HTML template that controls how it renders. Angular extends HTML with additional syntax, allowing dynamic values from the component to be inserted. Angular even automatically updates the rendered DOM when your component\\'s state changes! Properties and attributes of HTML elements can also be set and controlled using property bindings🔗. Event listeners like (click) can be used to respond to user interactions💬.\",\\n      \"code\": \"<button\\\\n  type=\\\\\"button\\\\\"\\\\n  [disabled]=\\\\\"canClick\\\\\"\\\\n  (click)=\\\\\"sayMessage()\\\\\">\\\\n  Trigger alert message\\\\n</button>\",\\n      \"difficulty\": \"beginner\"\\n    },\\n    {\\n      \"title\": \"🔧 Angular Directives: *ngIf and *ngFor🔎\",\\n      \"description\": \"Add more features to your Angular templates using directives! Directives like *ngIf and *ngFor can dynamically modify the DOM structure and perform a range of tasks. For example, the *ngIf directive can dynamically display or hide elements💡.\",\\n      \"code\": \"<div *ngIf=\\\\\"canEdit; else noEdit\\\\\">\\\\n    <p>You can edit the following paragraph.</p>\\\\n</div>\\\\n\\\\n<ng-template #noEdit>\\\\n    <p>The following paragraph is read only. Try clicking the button!</p>\\\\n</ng-template>\",\\n      \"difficulty\": \"intermediate\"\\n    },\\n    {\\n      \"title\": \"💉Dependency Injection in Angular💼\",\\n      \"description\": \"Dependency Injection (DI) allows your TypeScript classes to declare their dependencies without worrying about their instantiation - Angular takes care of that for you! This pattern helps write more testable and flexible code. For example, you can inject a service into a component class by specifying it in the constructor😎.\",\\n      \"code\": \"import { Component } from \\'@angular/core\\';\\\\nimport { Logger } from \\'../logger.service\\';\\\\n\\\\n@Component({\\\\n  selector: \\'hello-world-di\\',\\\\n  templateUrl: \\'./hello-world-di.component.html\\'\\\\n})\\\\nexport class HelloWorldDependencyInjectionComponent  {\\\\n  count = 0;\\\\n\\\\n  constructor(private logger: Logger) { }\\\\n\\\\n  onLogMe() {\\\\n    this.logger.writeCount(this.count);\\\\n    this.count++;\\\\n  }\\\\n}\",\\n      \"difficulty\": \"intermediate\"\\n    },\\n    {\\n      \"title\": \"🤓Angular CLI: Your Best Friend💼\",\\n      \"description\": \"The Angular CLI (Command Line Interface) is the fastest and recommended way to develop Angular applications. It simplifies tasks like building your application, serving it, generating or modifying files based on a schematic, running unit tests and even running end-to-end tests. This makes it an invaluable tool in your Angular journey! ⚡\",\\n      \"code\": \"ng build // Compiles an Angular application into an output directory.\\\\nng serve // Builds and serves your application, rebuilding on file changes.\\\\nng generate // Generates or modifies files based on a schematic.\\\\nng test // Runs unit tests on a given project.\\\\nng e2e // Builds and serves an Angular application, then runs end-to-end tests.\",\\n      \"difficulty\": \"beginner\"\\n    },\\n    {\\n      \"title\": \"📚 First-party Libraries in Angular 🗂\",\\n      \"description\": \"When your application grows and you need to add more features, make use of the many first-party libraries that Angular provides. These libraries, which include Angular Router, Angular Forms, Angular HttpClient, Angular Animations, Angular PWA, and Angular Schematics, expand your application\\'s abilities, letting you focus more on your application\\'s unique features🚀.\",\\n      \"code\": \"\", \"difficulty\": \"intermediate\" }\\n  ]\\n}',\n",
       " 2: '\\n    {\\n      \"blinks\": [\\n        {\\n          \"title\": \"URL Navigation in Single Page Applications 🔗\",\\n          \"description\": \"In a Single Page Application (SPA), you can interact with the page and navigate within the program without refreshing your browser. You can type a URL in the address bar to navigate to a corresponding page or click links on the page to navigate within the application! Plus, you can click the browser\\'s back and forward buttons to navigate the browser history same as you would do with conventional web pages! 😃\",\\n          \"code\": \"\",\\n          \"difficulty\": \"intermediate\"\\n        },\\n        {\\n          \"title\": \"Associating a URL Path with a Component 👣\",\\n          \"description\": \"In Angular applications, we can associate a URL path with a specific component. This is done using the Angular Router. From the HTML content, a route is defined to show individual product details. The route is defined in \\'app.module.ts\\', indicative of the product details with a path of \\'products/:productId\\' and \\'ProductDetailsComponent\\' for the component. This is followed by adding a router link with the product.id as a parameter in the product list anchor tag.⚙️\",\\n          \"code\": \"@NgModule({\\\\n  imports: [\\\\n    BrowserModule,\\\\n    ReactiveFormsModule,\\\\n    RouterModule.forRoot([\\\\n      { path: \\'\\', component: ProductListComponent },\\\\n      { path: \\'products/:productId\\', component: ProductDetailsComponent },\\\\n    ])\\\\n  ],\\\\n  declarations: [\\\\n    AppComponent,\\\\n    TopBarComponent,\\\\n    ProductListComponent,\\\\n    ProductAlertsComponent,\\\\n    ProductDetailsComponent,\\\\n  ],\\\\n})\"\\n          ,\\n          \"difficulty\": \"advanced\"\\n        },\\n        {\\n          \"title\": \"Using Angular Router to Display Components Based on URL 👀\",\\n          \"description\": \"The Angular Router is a powerful tool that can display components based on the browser\\'s URL and your defined routes. You can use it to combine the data and route information to display specific details for each product or page. With Angular Router, we can write code to display product details based on the URL and extract product-specific parameters from the route. 🚀\",\\n          \"code\": \"ngOnInit() {\\\\n  // First get the product id from the current route.\\\\n  const routeParams = this.route.snapshot.paramMap;\\\\n  const productIdFromRoute = Number(routeParams.get(\\'productId\\'));\\\\n\\\\n  // Find the product that correspond with the id provided in route.\\\\n  this.product = products.find(product => product.id === productIdFromRoute);\\\\n}\",\\n          \"difficulty\": \"advanced\"\\n        }\\n      ]\\n    }',\n",
       " 3: '\\n    {\\n      \"blinks\": [\\n        {\\n          \"title\": \"Setting Up an Angular Checkout Form 🛒\",\\n          \"description\": \"To set up a checkout form in Angular, you first define the form model in your component class. This model controls the status of the form. You use the FormBuilder service provided by @angular/forms package to create the form controls. The form model is then injected into the CartComponent using the constructor. 🧪\",\\n          \"code\": \"export class CartComponent {\\\\n  constructor(\\\\n    private cartService: CartService,\\\\n    private formBuilder: FormBuilder,\\\\n  ) {}\\\\n  checkoutForm = this.formBuilder.group({\\\\n    name: \\'\\',\\\\n    address: \\'\\'\\\\n  });\\\\n}\",\\n          \"difficulty\": \"beginner\"\\n        },\\n        {\\n          \"title\": \"Processing the Form Submission in Angular 📤\",\\n          \"description\": \"After setting up a form in Angular, we need an onSubmit() method to handle the form submission. This method takes the user\\'s name and address. It uses a service method called clearCart() to reset the form and clear the cart after the form is submitted. Cool, right?👍\",\\n          \"code\": \"\",\\n          \"difficulty\": \"beginner\"\\n        },\\n        {\\n          \"title\": \"Creating the Checkout Form in HTML with Angular 🖥️🎨\",\\n          \"description\": \"To render your Angular form in HTML, use a form element and bind the form model to it using the formGroup property. Angular\\'s ngSubmit event can be used to listen for form submission events. Input fields are added for user\\'s name and address using the formControlName attribute. Voila! Your checkout form is ready! 🎉\",\\n          \"code\": \"<form [formGroup]=\\\\\"checkoutForm\\\\\" (ngSubmit)=\\\\\"onSubmit()\\\\\">\\\\n  <input id=\\\\\"name\\\\\" type=\\\\\"text\\\\\" formControlName=\\\\\"name\\\\\">\\\\n  <input id=\\\\\"address\\\\\" type=\\\\\"text\\\\\" formControlName=\\\\\"address\\\\\">\\\\n  <button class=\\\\\"button\\\\\" type=\\\\\"submit\\\\\">Purchase</button>\\\\n</form>\",\\n          \"difficulty\": \"beginner\"\\n        }\\n      ]\\n    }',\n",
       " 4: '\\n{\\n  \"blinks\": [\\n    {\\n      \"title\": \"Setting up Angular Development Environment\",\\n      \"description\": \"To start developing with Angular, we first need to set up our local development environment. This involves installing a few prerequisites on our system like Node.js, an active LTS or maintenance LTS version, and npm (node package manager). Our journey begins by installing Angular CLI (Command Line Interface), a handy tool that helps in creating projects, generating application and library code, and doing a variety of ongoing development tasks like testing and deployment.\",\\n      \"code\": \"npm install -g @angular/cli\",\\n      \"difficulty\": \"beginner\"\\n    },\\n    {\\n      \"title\": \"Creating Angular workspace\",\\n      \"description\": \"Once we have our environment set up, we\\'re ready to create our workspace. Within an Angular workspace is where we\\'ll develop our apps. We can create a new workspace and an initial starter app using the Angular CLI command \\'ng new\\'. This command will prompt us for more details about the features we want to include in our app. For now, we can stick with the default features.\",\\n      \"code\": \"ng new my-app\",\\n      \"difficulty\": \"beginner\"\\n    },\\n    {\\n      \"title\": \"Running your Angular application\",\\n      \"description\": \"With our workspace and initial app ready, it\\'s time for the exciting part - running our app! The Angular CLI includes a server that allows us to build and serve our app locally. This provides an environment to develop and test our application as we make changes to it. Navigate to the workspace folder and run the ng serve command. Our app will be served at http://localhost:4200/. If everything goes according to plan, we should be able to see our app running locally in our browser 👏🎉\",\\n      \"code\": \"cd my-app\\\\nng serve --open\",\\n      \"difficulty\": \"beginner\"\\n    }\\n  ]\\n}'}"
      ]
     },
     "execution_count": 35,
     "metadata": {},
     "output_type": "execute_result"
    }
   ],
   "source": [
    "blinks"
   ]
  },
  {
   "cell_type": "code",
   "execution_count": 74,
   "metadata": {},
   "outputs": [
    {
     "name": "stdout",
     "output_type": "stream",
     "text": [
      "{'blinks': [{'title': 'Introduction to Angular 🚀', 'description': \"Angular is a robust framework for building efficient and complex single-page web apps. It's great for both beginners working on their first app, and professionals who are optimizing elaborate apps for companies. Handy feature: it comes with tutorials and guides, complete with downloadable examples for you to kick-start your projects! 😄\", 'code': '', 'difficulty': 'beginner'}, {'title': 'Assumed Knowledge 🧠', 'description': \"Hold up! Before diving into Angular, you should already have a basic understanding of HTML, CSS, JavaScript, and latest standard tools like classes and modules. While the samples they provide are in TypeScript, it's important to know that most Angular code can be written with just the latest JavaScript. So, it's not necessary to be a TypeScript pro to get started! 🤓\", 'code': '', 'difficulty': 'beginner'}, {'title': 'The Power of TypeScript in Angular 💪', 'description': \"While you can use just JavaScript for Angular, adopting TypeScript comes with its own perks! TypeScript's types can greatly enhance dependency injection and let you use decorators for metadata, making your code cleaner and more efficient. This might sound tricky, but don't worry, you'll get the hang of it soon enough! 😉\", 'code': '', 'difficulty': 'intermediate'}, {'title': 'Feedback & Contributions to Angular 💌', 'description': \"Angular is a community-driven project open to suggestions and feedbacks. Having a problem, or an idea for future docs? Don't hesitate to share it! You can even leave your own mark on Angular by creating pull requests on their GitHub repository. It's a great way to give back and help the community flourish. Remember to always respect and support each other! 😊\", 'code': '', 'difficulty': 'beginner'}, {'title': '🧠 What is Angular?🤖', 'description': 'Angular is a development platform, built on TypeScript📚. It includes a component-based framework for building scalable web applications🌐, a collection of libraries offering a wide range of features (like routing, forms management, and client-server communication), and developer tools to streamline your code. Use Angular to build projects that can scale from single-developer projects to large enterprise applications.🚀', 'code': '', 'difficulty': 'beginner'}, {'title': '🧩 Building Blocks of Angular: Components🔨', 'description': \"Components are fundamental to Angular. They're the building blocks that compose an application. A component includes a TypeScript class with Angular-specific information defined by a @Component() decorator, an HTML template, and styles. When applied to an HTML element in your template with a CSS selector, the the element becomes an instance of the component. The decorator also instructs Angular on rendering the component and optionally defines the appearance of the HTML elements in the template🎨.\", 'code': \"@Component({\\n  selector: 'hello-world',\\n  template: `\\n    <h2>Hello World</h2>\\n    <p>This is my first component!</p>\\n  `\\n})\\nexport class HelloWorldComponent {\\n  // The code in this class drives the component's behavior.\\n}\", 'difficulty': 'beginner'}, {'title': '✨Angular Templates and Bindings🧵', 'description': \"Every Angular component has an HTML template that controls how it renders. Angular extends HTML with additional syntax, allowing dynamic values from the component to be inserted. Angular even automatically updates the rendered DOM when your component's state changes! Properties and attributes of HTML elements can also be set and controlled using property bindings🔗. Event listeners like (click) can be used to respond to user interactions💬.\", 'code': '<button\\n  type=\"button\"\\n  [disabled]=\"canClick\"\\n  (click)=\"sayMessage()\">\\n  Trigger alert message\\n</button>', 'difficulty': 'beginner'}, {'title': '🔧 Angular Directives: *ngIf and *ngFor🔎', 'description': 'Add more features to your Angular templates using directives! Directives like *ngIf and *ngFor can dynamically modify the DOM structure and perform a range of tasks. For example, the *ngIf directive can dynamically display or hide elements💡.', 'code': '<div *ngIf=\"canEdit; else noEdit\">\\n    <p>You can edit the following paragraph.</p>\\n</div>\\n\\n<ng-template #noEdit>\\n    <p>The following paragraph is read only. Try clicking the button!</p>\\n</ng-template>', 'difficulty': 'intermediate'}, {'title': '💉Dependency Injection in Angular💼', 'description': 'Dependency Injection (DI) allows your TypeScript classes to declare their dependencies without worrying about their instantiation - Angular takes care of that for you! This pattern helps write more testable and flexible code. For example, you can inject a service into a component class by specifying it in the constructor😎.', 'code': \"import { Component } from '@angular/core';\\nimport { Logger } from '../logger.service';\\n\\n@Component({\\n  selector: 'hello-world-di',\\n  templateUrl: './hello-world-di.component.html'\\n})\\nexport class HelloWorldDependencyInjectionComponent  {\\n  count = 0;\\n\\n  constructor(private logger: Logger) { }\\n\\n  onLogMe() {\\n    this.logger.writeCount(this.count);\\n    this.count++;\\n  }\\n}\", 'difficulty': 'intermediate'}, {'title': '🤓Angular CLI: Your Best Friend💼', 'description': 'The Angular CLI (Command Line Interface) is the fastest and recommended way to develop Angular applications. It simplifies tasks like building your application, serving it, generating or modifying files based on a schematic, running unit tests and even running end-to-end tests. This makes it an invaluable tool in your Angular journey! ⚡', 'code': 'ng build // Compiles an Angular application into an output directory.\\nng serve // Builds and serves your application, rebuilding on file changes.\\nng generate // Generates or modifies files based on a schematic.\\nng test // Runs unit tests on a given project.\\nng e2e // Builds and serves an Angular application, then runs end-to-end tests.', 'difficulty': 'beginner'}, {'title': '📚 First-party Libraries in Angular 🗂', 'description': \"When your application grows and you need to add more features, make use of the many first-party libraries that Angular provides. These libraries, which include Angular Router, Angular Forms, Angular HttpClient, Angular Animations, Angular PWA, and Angular Schematics, expand your application's abilities, letting you focus more on your application's unique features🚀.\", 'code': '', 'difficulty': 'intermediate'}, {'title': 'URL Navigation in Single Page Applications 🔗', 'description': \"In a Single Page Application (SPA), you can interact with the page and navigate within the program without refreshing your browser. You can type a URL in the address bar to navigate to a corresponding page or click links on the page to navigate within the application! Plus, you can click the browser's back and forward buttons to navigate the browser history same as you would do with conventional web pages! 😃\", 'code': '', 'difficulty': 'intermediate'}, {'title': 'Associating a URL Path with a Component 👣', 'description': \"In Angular applications, we can associate a URL path with a specific component. This is done using the Angular Router. From the HTML content, a route is defined to show individual product details. The route is defined in 'app.module.ts', indicative of the product details with a path of 'products/:productId' and 'ProductDetailsComponent' for the component. This is followed by adding a router link with the product.id as a parameter in the product list anchor tag.⚙️\", 'code': \"@NgModule({\\n  imports: [\\n    BrowserModule,\\n    ReactiveFormsModule,\\n    RouterModule.forRoot([\\n      { path: '', component: ProductListComponent },\\n      { path: 'products/:productId', component: ProductDetailsComponent },\\n    ])\\n  ],\\n  declarations: [\\n    AppComponent,\\n    TopBarComponent,\\n    ProductListComponent,\\n    ProductAlertsComponent,\\n    ProductDetailsComponent,\\n  ],\\n})\", 'difficulty': 'advanced'}, {'title': 'Using Angular Router to Display Components Based on URL 👀', 'description': \"The Angular Router is a powerful tool that can display components based on the browser's URL and your defined routes. You can use it to combine the data and route information to display specific details for each product or page. With Angular Router, we can write code to display product details based on the URL and extract product-specific parameters from the route. 🚀\", 'code': \"ngOnInit() {\\n  // First get the product id from the current route.\\n  const routeParams = this.route.snapshot.paramMap;\\n  const productIdFromRoute = Number(routeParams.get('productId'));\\n\\n  // Find the product that correspond with the id provided in route.\\n  this.product = products.find(product => product.id === productIdFromRoute);\\n}\", 'difficulty': 'advanced'}, {'title': 'Setting Up an Angular Checkout Form 🛒', 'description': 'To set up a checkout form in Angular, you first define the form model in your component class. This model controls the status of the form. You use the FormBuilder service provided by @angular/forms package to create the form controls. The form model is then injected into the CartComponent using the constructor. 🧪', 'code': \"export class CartComponent {\\n  constructor(\\n    private cartService: CartService,\\n    private formBuilder: FormBuilder,\\n  ) {}\\n  checkoutForm = this.formBuilder.group({\\n    name: '',\\n    address: ''\\n  });\\n}\", 'difficulty': 'beginner'}, {'title': 'Processing the Form Submission in Angular 📤', 'description': \"After setting up a form in Angular, we need an onSubmit() method to handle the form submission. This method takes the user's name and address. It uses a service method called clearCart() to reset the form and clear the cart after the form is submitted. Cool, right?👍\", 'code': '', 'difficulty': 'beginner'}, {'title': 'Creating the Checkout Form in HTML with Angular 🖥️🎨', 'description': \"To render your Angular form in HTML, use a form element and bind the form model to it using the formGroup property. Angular's ngSubmit event can be used to listen for form submission events. Input fields are added for user's name and address using the formControlName attribute. Voila! Your checkout form is ready! 🎉\", 'code': '<form [formGroup]=\"checkoutForm\" (ngSubmit)=\"onSubmit()\">\\n  <input id=\"name\" type=\"text\" formControlName=\"name\">\\n  <input id=\"address\" type=\"text\" formControlName=\"address\">\\n  <button class=\"button\" type=\"submit\">Purchase</button>\\n</form>', 'difficulty': 'beginner'}, {'title': 'Setting up Angular Development Environment', 'description': 'To start developing with Angular, we first need to set up our local development environment. This involves installing a few prerequisites on our system like Node.js, an active LTS or maintenance LTS version, and npm (node package manager). Our journey begins by installing Angular CLI (Command Line Interface), a handy tool that helps in creating projects, generating application and library code, and doing a variety of ongoing development tasks like testing and deployment.', 'code': 'npm install -g @angular/cli', 'difficulty': 'beginner'}, {'title': 'Creating Angular workspace', 'description': \"Once we have our environment set up, we're ready to create our workspace. Within an Angular workspace is where we'll develop our apps. We can create a new workspace and an initial starter app using the Angular CLI command 'ng new'. This command will prompt us for more details about the features we want to include in our app. For now, we can stick with the default features.\", 'code': 'ng new my-app', 'difficulty': 'beginner'}, {'title': 'Running your Angular application', 'description': \"With our workspace and initial app ready, it's time for the exciting part - running our app! The Angular CLI includes a server that allows us to build and serve our app locally. This provides an environment to develop and test our application as we make changes to it. Navigate to the workspace folder and run the ng serve command. Our app will be served at http://localhost:4200/. If everything goes according to plan, we should be able to see our app running locally in our browser 👏🎉\", 'code': 'cd my-app\\nng serve --open', 'difficulty': 'beginner'}]}\n"
     ]
    }
   ],
   "source": [
    "# Write to file\n",
    "parsed_blinks = {'blinks': []}\n",
    "for blink_set in blinks:\n",
    "    loaded_json = json.loads(blinks[blink_set])\n",
    "    for blink in loaded_json['blinks']:\n",
    "        parsed_blinks['blinks'].append(blink)\n",
    "    \n",
    "print(parsed_blinks)\n",
    "with open('blinks.json', 'w') as f:\n",
    "        f.write(json.dumps(parsed_blinks))"
   ]
  },
  {
   "cell_type": "code",
   "execution_count": 76,
   "metadata": {},
   "outputs": [
    {
     "data": {
      "text/plain": [
       "[{'title': 'Introduction to Angular 🚀',\n",
       "  'description': \"Angular is a robust framework for building efficient and complex single-page web apps. It's great for both beginners working on their first app, and professionals who are optimizing elaborate apps for companies. Handy feature: it comes with tutorials and guides, complete with downloadable examples for you to kick-start your projects! 😄\",\n",
       "  'code': '',\n",
       "  'difficulty': 'beginner'},\n",
       " {'title': 'Assumed Knowledge 🧠',\n",
       "  'description': \"Hold up! Before diving into Angular, you should already have a basic understanding of HTML, CSS, JavaScript, and latest standard tools like classes and modules. While the samples they provide are in TypeScript, it's important to know that most Angular code can be written with just the latest JavaScript. So, it's not necessary to be a TypeScript pro to get started! 🤓\",\n",
       "  'code': '',\n",
       "  'difficulty': 'beginner'},\n",
       " {'title': 'The Power of TypeScript in Angular 💪',\n",
       "  'description': \"While you can use just JavaScript for Angular, adopting TypeScript comes with its own perks! TypeScript's types can greatly enhance dependency injection and let you use decorators for metadata, making your code cleaner and more efficient. This might sound tricky, but don't worry, you'll get the hang of it soon enough! 😉\",\n",
       "  'code': '',\n",
       "  'difficulty': 'intermediate'},\n",
       " {'title': 'Feedback & Contributions to Angular 💌',\n",
       "  'description': \"Angular is a community-driven project open to suggestions and feedbacks. Having a problem, or an idea for future docs? Don't hesitate to share it! You can even leave your own mark on Angular by creating pull requests on their GitHub repository. It's a great way to give back and help the community flourish. Remember to always respect and support each other! 😊\",\n",
       "  'code': '',\n",
       "  'difficulty': 'beginner'},\n",
       " {'title': '🧠 What is Angular?🤖',\n",
       "  'description': 'Angular is a development platform, built on TypeScript📚. It includes a component-based framework for building scalable web applications🌐, a collection of libraries offering a wide range of features (like routing, forms management, and client-server communication), and developer tools to streamline your code. Use Angular to build projects that can scale from single-developer projects to large enterprise applications.🚀',\n",
       "  'code': '',\n",
       "  'difficulty': 'beginner'},\n",
       " {'title': '🧩 Building Blocks of Angular: Components🔨',\n",
       "  'description': \"Components are fundamental to Angular. They're the building blocks that compose an application. A component includes a TypeScript class with Angular-specific information defined by a @Component() decorator, an HTML template, and styles. When applied to an HTML element in your template with a CSS selector, the the element becomes an instance of the component. The decorator also instructs Angular on rendering the component and optionally defines the appearance of the HTML elements in the template🎨.\",\n",
       "  'code': \"@Component({\\n  selector: 'hello-world',\\n  template: `\\n    <h2>Hello World</h2>\\n    <p>This is my first component!</p>\\n  `\\n})\\nexport class HelloWorldComponent {\\n  // The code in this class drives the component's behavior.\\n}\",\n",
       "  'difficulty': 'beginner'},\n",
       " {'title': '✨Angular Templates and Bindings🧵',\n",
       "  'description': \"Every Angular component has an HTML template that controls how it renders. Angular extends HTML with additional syntax, allowing dynamic values from the component to be inserted. Angular even automatically updates the rendered DOM when your component's state changes! Properties and attributes of HTML elements can also be set and controlled using property bindings🔗. Event listeners like (click) can be used to respond to user interactions💬.\",\n",
       "  'code': '<button\\n  type=\"button\"\\n  [disabled]=\"canClick\"\\n  (click)=\"sayMessage()\">\\n  Trigger alert message\\n</button>',\n",
       "  'difficulty': 'beginner'},\n",
       " {'title': '🔧 Angular Directives: *ngIf and *ngFor🔎',\n",
       "  'description': 'Add more features to your Angular templates using directives! Directives like *ngIf and *ngFor can dynamically modify the DOM structure and perform a range of tasks. For example, the *ngIf directive can dynamically display or hide elements💡.',\n",
       "  'code': '<div *ngIf=\"canEdit; else noEdit\">\\n    <p>You can edit the following paragraph.</p>\\n</div>\\n\\n<ng-template #noEdit>\\n    <p>The following paragraph is read only. Try clicking the button!</p>\\n</ng-template>',\n",
       "  'difficulty': 'intermediate'},\n",
       " {'title': '💉Dependency Injection in Angular💼',\n",
       "  'description': 'Dependency Injection (DI) allows your TypeScript classes to declare their dependencies without worrying about their instantiation - Angular takes care of that for you! This pattern helps write more testable and flexible code. For example, you can inject a service into a component class by specifying it in the constructor😎.',\n",
       "  'code': \"import { Component } from '@angular/core';\\nimport { Logger } from '../logger.service';\\n\\n@Component({\\n  selector: 'hello-world-di',\\n  templateUrl: './hello-world-di.component.html'\\n})\\nexport class HelloWorldDependencyInjectionComponent  {\\n  count = 0;\\n\\n  constructor(private logger: Logger) { }\\n\\n  onLogMe() {\\n    this.logger.writeCount(this.count);\\n    this.count++;\\n  }\\n}\",\n",
       "  'difficulty': 'intermediate'},\n",
       " {'title': '🤓Angular CLI: Your Best Friend💼',\n",
       "  'description': 'The Angular CLI (Command Line Interface) is the fastest and recommended way to develop Angular applications. It simplifies tasks like building your application, serving it, generating or modifying files based on a schematic, running unit tests and even running end-to-end tests. This makes it an invaluable tool in your Angular journey! ⚡',\n",
       "  'code': 'ng build // Compiles an Angular application into an output directory.\\nng serve // Builds and serves your application, rebuilding on file changes.\\nng generate // Generates or modifies files based on a schematic.\\nng test // Runs unit tests on a given project.\\nng e2e // Builds and serves an Angular application, then runs end-to-end tests.',\n",
       "  'difficulty': 'beginner'},\n",
       " {'title': '📚 First-party Libraries in Angular 🗂',\n",
       "  'description': \"When your application grows and you need to add more features, make use of the many first-party libraries that Angular provides. These libraries, which include Angular Router, Angular Forms, Angular HttpClient, Angular Animations, Angular PWA, and Angular Schematics, expand your application's abilities, letting you focus more on your application's unique features🚀.\",\n",
       "  'code': '',\n",
       "  'difficulty': 'intermediate'},\n",
       " {'title': 'URL Navigation in Single Page Applications 🔗',\n",
       "  'description': \"In a Single Page Application (SPA), you can interact with the page and navigate within the program without refreshing your browser. You can type a URL in the address bar to navigate to a corresponding page or click links on the page to navigate within the application! Plus, you can click the browser's back and forward buttons to navigate the browser history same as you would do with conventional web pages! 😃\",\n",
       "  'code': '',\n",
       "  'difficulty': 'intermediate'},\n",
       " {'title': 'Associating a URL Path with a Component 👣',\n",
       "  'description': \"In Angular applications, we can associate a URL path with a specific component. This is done using the Angular Router. From the HTML content, a route is defined to show individual product details. The route is defined in 'app.module.ts', indicative of the product details with a path of 'products/:productId' and 'ProductDetailsComponent' for the component. This is followed by adding a router link with the product.id as a parameter in the product list anchor tag.⚙️\",\n",
       "  'code': \"@NgModule({\\n  imports: [\\n    BrowserModule,\\n    ReactiveFormsModule,\\n    RouterModule.forRoot([\\n      { path: '', component: ProductListComponent },\\n      { path: 'products/:productId', component: ProductDetailsComponent },\\n    ])\\n  ],\\n  declarations: [\\n    AppComponent,\\n    TopBarComponent,\\n    ProductListComponent,\\n    ProductAlertsComponent,\\n    ProductDetailsComponent,\\n  ],\\n})\",\n",
       "  'difficulty': 'advanced'},\n",
       " {'title': 'Using Angular Router to Display Components Based on URL 👀',\n",
       "  'description': \"The Angular Router is a powerful tool that can display components based on the browser's URL and your defined routes. You can use it to combine the data and route information to display specific details for each product or page. With Angular Router, we can write code to display product details based on the URL and extract product-specific parameters from the route. 🚀\",\n",
       "  'code': \"ngOnInit() {\\n  // First get the product id from the current route.\\n  const routeParams = this.route.snapshot.paramMap;\\n  const productIdFromRoute = Number(routeParams.get('productId'));\\n\\n  // Find the product that correspond with the id provided in route.\\n  this.product = products.find(product => product.id === productIdFromRoute);\\n}\",\n",
       "  'difficulty': 'advanced'},\n",
       " {'title': 'Setting Up an Angular Checkout Form 🛒',\n",
       "  'description': 'To set up a checkout form in Angular, you first define the form model in your component class. This model controls the status of the form. You use the FormBuilder service provided by @angular/forms package to create the form controls. The form model is then injected into the CartComponent using the constructor. 🧪',\n",
       "  'code': \"export class CartComponent {\\n  constructor(\\n    private cartService: CartService,\\n    private formBuilder: FormBuilder,\\n  ) {}\\n  checkoutForm = this.formBuilder.group({\\n    name: '',\\n    address: ''\\n  });\\n}\",\n",
       "  'difficulty': 'beginner'},\n",
       " {'title': 'Processing the Form Submission in Angular 📤',\n",
       "  'description': \"After setting up a form in Angular, we need an onSubmit() method to handle the form submission. This method takes the user's name and address. It uses a service method called clearCart() to reset the form and clear the cart after the form is submitted. Cool, right?👍\",\n",
       "  'code': '',\n",
       "  'difficulty': 'beginner'},\n",
       " {'title': 'Creating the Checkout Form in HTML with Angular 🖥️🎨',\n",
       "  'description': \"To render your Angular form in HTML, use a form element and bind the form model to it using the formGroup property. Angular's ngSubmit event can be used to listen for form submission events. Input fields are added for user's name and address using the formControlName attribute. Voila! Your checkout form is ready! 🎉\",\n",
       "  'code': '<form [formGroup]=\"checkoutForm\" (ngSubmit)=\"onSubmit()\">\\n  <input id=\"name\" type=\"text\" formControlName=\"name\">\\n  <input id=\"address\" type=\"text\" formControlName=\"address\">\\n  <button class=\"button\" type=\"submit\">Purchase</button>\\n</form>',\n",
       "  'difficulty': 'beginner'},\n",
       " {'title': 'Setting up Angular Development Environment',\n",
       "  'description': 'To start developing with Angular, we first need to set up our local development environment. This involves installing a few prerequisites on our system like Node.js, an active LTS or maintenance LTS version, and npm (node package manager). Our journey begins by installing Angular CLI (Command Line Interface), a handy tool that helps in creating projects, generating application and library code, and doing a variety of ongoing development tasks like testing and deployment.',\n",
       "  'code': 'npm install -g @angular/cli',\n",
       "  'difficulty': 'beginner'},\n",
       " {'title': 'Creating Angular workspace',\n",
       "  'description': \"Once we have our environment set up, we're ready to create our workspace. Within an Angular workspace is where we'll develop our apps. We can create a new workspace and an initial starter app using the Angular CLI command 'ng new'. This command will prompt us for more details about the features we want to include in our app. For now, we can stick with the default features.\",\n",
       "  'code': 'ng new my-app',\n",
       "  'difficulty': 'beginner'},\n",
       " {'title': 'Running your Angular application',\n",
       "  'description': \"With our workspace and initial app ready, it's time for the exciting part - running our app! The Angular CLI includes a server that allows us to build and serve our app locally. This provides an environment to develop and test our application as we make changes to it. Navigate to the workspace folder and run the ng serve command. Our app will be served at http://localhost:4200/. If everything goes according to plan, we should be able to see our app running locally in our browser 👏🎉\",\n",
       "  'code': 'cd my-app\\nng serve --open',\n",
       "  'difficulty': 'beginner'}]"
      ]
     },
     "execution_count": 76,
     "metadata": {},
     "output_type": "execute_result"
    }
   ],
   "source": [
    "with open('blinks.json', 'r') as f:\n",
    "    for line in f:\n",
    "        loaded_blink = json.loads(line)\n",
    "        loaded_blinks = loaded_blink['blinks']\n",
    "    \n",
    "loaded_blinks"
   ]
  }
 ],
 "metadata": {
  "kernelspec": {
   "display_name": ".venv",
   "language": "python",
   "name": "python3"
  },
  "language_info": {
   "codemirror_mode": {
    "name": "ipython",
    "version": 3
   },
   "file_extension": ".py",
   "mimetype": "text/x-python",
   "name": "python",
   "nbconvert_exporter": "python",
   "pygments_lexer": "ipython3",
   "version": "3.10.6"
  },
  "orig_nbformat": 4
 },
 "nbformat": 4,
 "nbformat_minor": 2
}
