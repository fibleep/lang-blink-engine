{
 "cells": [
  {
   "cell_type": "code",
   "execution_count": 1,
   "metadata": {},
   "outputs": [
    {
     "data": {
      "text/plain": [
       "index      <h1 id=\"introduction-to-the-angular-docs\">An...\n",
       "dtype: object"
      ]
     },
     "execution_count": 1,
     "metadata": {},
     "output_type": "execute_result"
    }
   ],
   "source": [
    "# Setting up the environment\n",
    "\n",
    "import pandas as pd\n",
    "from dotenv import load_dotenv\n",
    "import os \n",
    "\n",
    "load_dotenv()\n",
    "\n",
    "df: pd.Series = pd.read_json('db.json',typ='series')\n",
    "\n",
    "\n",
    "# get first 5 values\n",
    "df = df[:1]\n",
    "# Remove all values that are html tags\n",
    "df\n"
   ]
  },
  {
   "cell_type": "code",
   "execution_count": 2,
   "metadata": {},
   "outputs": [
    {
     "data": {
      "text/plain": [
       "index     Angular Documentation Angular is an applicati...\n",
       "dtype: object"
      ]
     },
     "execution_count": 2,
     "metadata": {},
     "output_type": "execute_result"
    }
   ],
   "source": [
    "# Zoopin\n",
    "# Remove html tags from the description\n",
    "\n",
    "from utils.html_tools import extract_text\n",
    "\n",
    "df = df.apply(lambda x: extract_text(x))\n",
    "df\n"
   ]
  },
  {
   "cell_type": "code",
   "execution_count": 3,
   "metadata": {},
   "outputs": [],
   "source": [
    "from utils.open_ai_tools import parse_to_blink\n",
    "import openai\n",
    "# OpenAI Integration\n",
    "OPENAI_API_KEY = os.environ.get(\"OPENAI_API_KEY\", \"OOPS, please set env var called 'OPEN_AI_API_KEY'\")\n",
    "\n",
    "# iterate over rows of dataframe and print out the prompt and completion\n",
    "blinks = {}\n",
    "for index, i in enumerate(df.values):\n",
    "    blinks[index] = parse_to_blink(i)"
   ]
  },
  {
   "cell_type": "code",
   "execution_count": 4,
   "metadata": {},
   "outputs": [
    {
     "data": {
      "text/plain": [
       "{0: <OpenAIObject text_completion id=cmpl-7SOnGobGQxksrEWhiQ1WG27KM1HsF at 0x7ff09fee30b0> JSON: {\n",
       "   \"choices\": [\n",
       "     {\n",
       "       \"finish_reason\": \"stop\",\n",
       "       \"index\": 0,\n",
       "       \"logprobs\": null,\n",
       "       \"text\": \"\"\n",
       "     }\n",
       "   ],\n",
       "   \"created\": 1687002846,\n",
       "   \"id\": \"cmpl-7SOnGobGQxksrEWhiQ1WG27KM1HsF\",\n",
       "   \"model\": \"davinci\",\n",
       "   \"object\": \"text_completion\",\n",
       "   \"usage\": {\n",
       "     \"prompt_tokens\": 403,\n",
       "     \"total_tokens\": 403\n",
       "   }\n",
       " }}"
      ]
     },
     "execution_count": 4,
     "metadata": {},
     "output_type": "execute_result"
    }
   ],
   "source": [
    "blinks"
   ]
  }
 ],
 "metadata": {
  "kernelspec": {
   "display_name": "Python 3",
   "language": "python",
   "name": "python3"
  },
  "language_info": {
   "codemirror_mode": {
    "name": "ipython",
    "version": 3
   },
   "file_extension": ".py",
   "mimetype": "text/x-python",
   "name": "python",
   "nbconvert_exporter": "python",
   "pygments_lexer": "ipython3",
   "version": "3.10.6"
  },
  "orig_nbformat": 4
 },
 "nbformat": 4,
 "nbformat_minor": 2
}
