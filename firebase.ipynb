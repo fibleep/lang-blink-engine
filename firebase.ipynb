{
 "cells": [
  {
   "cell_type": "code",
   "execution_count": 1,
   "metadata": {},
   "outputs": [
    {
     "name": "stdout",
     "output_type": "stream",
     "text": [
      "Connected to Firebase\n"
     ]
    }
   ],
   "source": [
    "import firebase_admin\n",
    "from firebase_admin import credentials\n",
    "\n",
    "\n",
    "cred = credentials.Certificate(\"./codeblinxkey.json\")\n",
    "firebase_admin.initialize_app(cred)\n",
    "\n",
    "print('Connected to Firebase')"
   ]
  },
  {
   "cell_type": "code",
   "execution_count": 5,
   "metadata": {},
   "outputs": [
    {
     "data": {
      "text/plain": [
       "update_time {\n",
       "  seconds: 1689260971\n",
       "  nanos: 724819000\n",
       "}"
      ]
     },
     "execution_count": 5,
     "metadata": {},
     "output_type": "execute_result"
    }
   ],
   "source": [
    "from firebase_admin import firestore\n",
    "\n",
    "db = firestore.client()\n",
    "\n",
    "# Creating a Python entry\n",
    "doc_ref = db.collection('languages').document('python')\n",
    "doc_ref.set({\n",
    "    'Name': 'Angular',\n",
    "    'Description': \"\"\"\n",
    "    Imagine you're building a house. Wouldn't it be great if you could reuse your blueprints, automatically sync your designs with the actual construction, and have a team of experts always ready to help you out?\n",
    "\n",
    "Well, that's what Angular can do for your web applications! Developed by the smart folks at Google, Angular helps you create efficient and interactive web applications.\n",
    "\n",
    "It's Component-Based: Think of this as using building blocks to make your app. It keeps everything tidy and easy to manage. Plus, you can reuse these blocks, saving you time and effort.\n",
    "\n",
    "It offers Two-Way Data Binding: This is like magic! Any changes in your data are immediately reflected on your screen and vice versa. This makes your app really responsive and user-friendly.\n",
    "\n",
    "It has amazing Tools and Ecosystem: Just like having a helpful team by your side, Angular's got a load of tools to help you build your app. And with a big community of fellow developers, you're never alone in your journey.\n",
    "\n",
    "In a nutshell, Angular's like a trusty toolbox for building intricate web applications. It's reliable, efficient, and backed by Google - your friendly neighborhood tech giant!\n",
    "\"\"\",\n",
    "    'Color': 'red',\n",
    "})\n",
    "\n",
    "# # Creating a JavaScript entry\n",
    "# doc_ref = db.collection('programming_languages').document('javascript')\n",
    "# doc_ref.set({\n",
    "#     'Name': 'JavaScript',\n",
    "#     'Description': 'A high-level interpreted scripting language for web development.',\n",
    "#     'Color': 'Yellow',\n",
    "#     'Blinks': {\n",
    "#         'Beginner': 6,\n",
    "#         'Advanced': 12,\n",
    "#         'Master': 18\n",
    "#     }\n",
    "# })\n",
    "\n",
    "# # Creating a Java entry\n",
    "# doc_ref = db.collection('programming_languages').document('java')\n",
    "# doc_ref.set({\n",
    "#     'Name': 'Java',\n",
    "#     'Description': 'A class-based, object-oriented programming language.',\n",
    "#     'Color': 'Red',\n",
    "#     'Blinks': {\n",
    "#         'Beginner': 7,\n",
    "#         'Advanced': 14,\n",
    "#         'Master': 21\n",
    "#     }\n",
    "# })\n"
   ]
  }
 ],
 "metadata": {
  "kernelspec": {
   "display_name": ".venv",
   "language": "python",
   "name": "python3"
  },
  "language_info": {
   "codemirror_mode": {
    "name": "ipython",
    "version": 3
   },
   "file_extension": ".py",
   "mimetype": "text/x-python",
   "name": "python",
   "nbconvert_exporter": "python",
   "pygments_lexer": "ipython3",
   "version": "3.10.6"
  },
  "orig_nbformat": 4
 },
 "nbformat": 4,
 "nbformat_minor": 2
}
