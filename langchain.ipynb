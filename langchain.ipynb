{
 "cells": [
  {
   "cell_type": "code",
   "execution_count": 138,
   "metadata": {},
   "outputs": [
    {
     "name": "stdout",
     "output_type": "stream",
     "text": [
      " Angular Documentation Angular is an application-design framework and development platform for creating efficient and sophisticated single-page apps. These Angular docs help you learn and use the Angular framework and development platform, from your first application to optimizing complex single-page applications for enterprises. Tutorials and guides include downloadable examples to help you start your projects. Assumptions These docs assume that you are already familiar with HTML, CSS, JavaScript, and some of the tools from the latest standards, such as classes and modules. The code samples are written using TypeScript. Most Angular code can be written with just the latest JavaScript, using types for dependency injection, and using decorators for metadata. Feedback We want to hear from you. Report problems or submit suggestions for future docs. Contribute to Angular docs by creating pull requests on the Angular GitHub repository. See Contributing to Angular for information about submission guidelines. Our community values respectful, supportive communication. Please consult and adhere to the Code of Conduct.\n",
      "\n",
      "    © 2010–2023 Google, Inc.Licensed under the Creative Commons Attribution License 4.0.\n",
      "https://angular.io/docs\n",
      "\n",
      "\n",
      "\n"
     ]
    }
   ],
   "source": [
    "# Setting up the environment\n",
    "\n",
    "import pandas as pd\n",
    "from dotenv import load_dotenv\n",
    "import os \n",
    "\n",
    "load_dotenv()\n",
    "\n",
    "df: pd.Series = pd.read_json('db.json',typ='series')\n",
    "\n",
    "df = df[:5]\n",
    "\n",
    "from utils.html_tools import extract_text\n",
    "\n",
    "df = df.apply(lambda x: extract_text(x))\n",
    "print(df[0])"
   ]
  },
  {
   "cell_type": "code",
   "execution_count": 139,
   "metadata": {},
   "outputs": [],
   "source": [
    "from utils.open_ai_tools import parse_to_blink\n",
    "import openai\n",
    "# OpenAI Integration\n",
    "OPENAI_API_KEY = os.environ.get(\"OPENAI_API_KEY\", \"OOPS, please set env var called 'OPEN_AI_API_KEY'\")"
   ]
  },
  {
   "cell_type": "code",
   "execution_count": 140,
   "metadata": {},
   "outputs": [
    {
     "name": "stderr",
     "output_type": "stream",
     "text": [
      "/home/fifi/Repositories/lang-blink-engine/.venv/lib/python3.10/site-packages/langchain/llms/openai.py:171: UserWarning: You are trying to use a chat model. This way of initializing it is no longer supported. Instead, please use: `from langchain.chat_models import ChatOpenAI`\n",
      "  warnings.warn(\n",
      "/home/fifi/Repositories/lang-blink-engine/.venv/lib/python3.10/site-packages/langchain/llms/openai.py:716: UserWarning: You are trying to use a chat model. This way of initializing it is no longer supported. Instead, please use: `from langchain.chat_models import ChatOpenAI`\n",
      "  warnings.warn(\n"
     ]
    }
   ],
   "source": [
    "# Langchain\n",
    "from langchain.llms import OpenAI\n",
    "llm = OpenAI(openai_api_key=OPENAI_API_KEY, max_tokens=-1,model_name=\"gpt-3.5-turbo-0613\")\n",
    "from langchain import PromptTemplate\n",
    "\n",
    "template = \"\"\"\n",
    "You are a programming teacher. You talk only in json and you dont use newline characters outside of json values.\n",
    "Generate a json response that teaches something and explains a concept from the provided HTML content (make the lesson universal, IMPORTANT! This is used in a 3rd party app, dont make any references to the original docs), I will kill myself if i see anything else. adhering to this JSON structure: \n",
    "(\n",
    "\"title\": \"<title>\",\n",
    "\"description\": \"<explanation>\", # Make this sound human\n",
    "\"code\": \"<code>\"\n",
    "\"difficulty\": \"<beginner | intermediate | advanced>\"\n",
    ")\n",
    "\n",
    "HTML content to convert into a blink: {html}\n",
    "\"\"\"\n",
    "\n",
    "prompt = PromptTemplate(\n",
    "    input_variables=[\"html\"],\n",
    "    template=template,\n",
    ")\n",
    "from utils.open_ai_tools import truncate_text\n",
    "\n",
    "blinks = {}\n",
    "for index, i in enumerate(df.values):\n",
    "    parsed_text = truncate_text(i, 1800)\n",
    "    blink_prompt = prompt.format(html=parsed_text)\n",
    "    blinks[index] = llm.predict(blink_prompt)"
   ]
  },
  {
   "cell_type": "code",
   "execution_count": 141,
   "metadata": {},
   "outputs": [
    {
     "data": {
      "text/plain": [
       "{0: '{\\n  \"title\": \"Introduction to Angular\",\\n  \"description\": \"Angular is a powerful application-design framework and development platform for creating efficient and sophisticated single-page apps. It helps developers in building dynamic and interactive web applications by providing a structured framework and a wide range of features. Angular docs serve as a comprehensive guide to learning and utilizing the Angular framework, starting from basic application development to optimizing complex single-page applications for enterprises. Whether you are a beginner or an experienced developer, these docs offer tutorials, guides, and downloadable examples to kickstart your Angular projects.\",\\n  \"code\": \"<blink>Angular Documentation</blink> Angular is an application-design framework and development platform for creating efficient and sophisticated single-page apps. These Angular docs help you learn and use the Angular framework and development platform, from your first application to optimizing complex single-page applications for enterprises. Tutorials and guides include downloadable examples to help you start your projects. Assumptions These docs assume that you are already familiar with HTML, CSS, JavaScript, and some of the tools from the latest standards, such as classes and modules. The code samples are written using TypeScript. Most Angular code can be written with just the latest JavaScript, using types for dependency injection, and using decorators for metadata. Feedback We want to hear from you. Report problems or submit suggestions for future docs. Contribute to Angular docs by creating pull requests on the Angular GitHub repository. See Contributing to Angular for information about submission guidelines. Our community values respectful, supportive communication. Please consult and adhere to the Code of Conduct.\\\\\\\\n\\\\\\\\n© 2010–2023 Google, Inc.Licensed under the Creative Commons Attribution License 4.0.\",\\n  \"difficulty\": \"beginner\"\\n}',\n",
       " 1: '{\\n  \"title\": \"Understanding Dependency Injection in Angular\",\\n  \"description\": \"Dependency injection is a design pattern in Angular that allows you to declare the dependencies of your TypeScript classes without worrying about their instantiation. Angular takes care of the instantiation for you, making your code more testable and flexible. In this example, we have a Logger class that contains a writeCount function. By using dependency injection, we can easily access this function in our HelloWorldDI component.\",\\n  \"code\": \"import { Injectable } from \\'@angular/core\\';\\\\n\\\\n@Injectable({providedIn: \\'root\\'})\\\\nexport class Logger {\\\\n  writeCount(count: number) {\\\\n    console.warn(count);\\\\n  }\\\\n}\\\\n\\\\nclass HelloWorldDI {\\\\n  constructor(private logger: Logger) {}\\\\n\\\\n  handleClick() {\\\\n    this.logger.writeCount(5);\\\\n  }\\\\n}\",\\n  \"difficulty\": \"beginner\"\\n}',\n",
       " 2: '{\\n  \"title\": \"Adding Navigation with Angular Router\",\\n  \"description\": \"In this lesson, you will learn how to add navigation to your Angular application using the Angular Router. The Angular Router allows you to create routes and associate them with components, enabling seamless navigation within your single-page application. It also allows you to handle browser history and create dynamic URLs for different products. By the end of this lesson, you will be able to navigate to specific product pages, modify the URL path based on the selected product, and display the corresponding product details.\",\\n  \"code\": \"ng generate component product-details\",\\n  \"difficulty\": \"beginner\"\\n}',\n",
       " 3: '{\\n  \"title\": \"Using forms for user input\",\\n  \"description\": \"In this lesson, we will learn how to use forms in Angular to collect user information. We will focus on setting up the form model, handling form submission, and displaying form fields.\",\\n  \"code\": \"import { Component } from \\'@angular/core\\';\\\\nimport { FormBuilder } from \\'@angular/forms\\';\\\\n\\\\nimport { CartService } from \\'../cart.service\\';\\\\n\\\\n@Component({\\\\n  selector: \\'app-cart\\',\\\\n  templateUrl: \\'./cart.component.html\\',\\\\n  styleUrls: [\\'./cart.component.css\\']\\\\n})\\\\nexport class CartComponent {\\\\n\\\\n  items = this.cartService.getItems();\\\\n\\\\n  checkoutForm = this.formBuilder.group({\\\\n    name: \\'\\',\\\\n    address: \\'\\'\\\\n  });\\\\n\\\\n  constructor(\\\\n    private cartService: CartService,\\\\n    private formBuilder: FormBuilder,\\\\n  ) {}\\\\n\\\\n  onSubmit(): void {\\\\n    // Process checkout data here\\\\n    this.items = this.cartService.clearCart();\\\\n    console.warn(\\'Your order has been submitted\\', this.checkoutForm.value);\\\\n    this.checkoutForm.reset();\\\\n  }\\\\n}\",\\n  \"difficulty\": \"intermediate\"\\n}',\n",
       " 4: '{\\n  \"title\": \"Setting up the local environment and workspace\",\\n  \"description\": \"This guide explains how to set up your environment for Angular development using the Angular CLI tool. It includes information about prerequisites, installing the CLI, creating an initial workspace and starter app, and running that app locally to verify your setup.\",\\n  \"code\": \"npm install -g @angular/cli\",\\n  \"difficulty\": \"beginner\"\\n}'}"
      ]
     },
     "execution_count": 141,
     "metadata": {},
     "output_type": "execute_result"
    }
   ],
   "source": [
    "blinks"
   ]
  },
  {
   "cell_type": "code",
   "execution_count": 142,
   "metadata": {},
   "outputs": [
    {
     "data": {
      "text/plain": [
       "{0: {'title': 'Introduction to Angular',\n",
       "  'description': 'Angular is a powerful application-design framework and development platform for creating efficient and sophisticated single-page apps. It helps developers in building dynamic and interactive web applications by providing a structured framework and a wide range of features. Angular docs serve as a comprehensive guide to learning and utilizing the Angular framework, starting from basic application development to optimizing complex single-page applications for enterprises. Whether you are a beginner or an experienced developer, these docs offer tutorials, guides, and downloadable examples to kickstart your Angular projects.',\n",
       "  'code': '<blink>Angular Documentation</blink> Angular is an application-design framework and development platform for creating efficient and sophisticated single-page apps. These Angular docs help you learn and use the Angular framework and development platform, from your first application to optimizing complex single-page applications for enterprises. Tutorials and guides include downloadable examples to help you start your projects. Assumptions These docs assume that you are already familiar with HTML, CSS, JavaScript, and some of the tools from the latest standards, such as classes and modules. The code samples are written using TypeScript. Most Angular code can be written with just the latest JavaScript, using types for dependency injection, and using decorators for metadata. Feedback We want to hear from you. Report problems or submit suggestions for future docs. Contribute to Angular docs by creating pull requests on the Angular GitHub repository. See Contributing to Angular for information about submission guidelines. Our community values respectful, supportive communication. Please consult and adhere to the Code of Conduct.\\\\n\\\\n© 2010–2023 Google, Inc.Licensed under the Creative Commons Attribution License 4.0.',\n",
       "  'difficulty': 'beginner'},\n",
       " 1: {'title': 'Understanding Dependency Injection in Angular',\n",
       "  'description': 'Dependency injection is a design pattern in Angular that allows you to declare the dependencies of your TypeScript classes without worrying about their instantiation. Angular takes care of the instantiation for you, making your code more testable and flexible. In this example, we have a Logger class that contains a writeCount function. By using dependency injection, we can easily access this function in our HelloWorldDI component.',\n",
       "  'code': \"import { Injectable } from '@angular/core';\\n\\n@Injectable({providedIn: 'root'})\\nexport class Logger {\\n  writeCount(count: number) {\\n    console.warn(count);\\n  }\\n}\\n\\nclass HelloWorldDI {\\n  constructor(private logger: Logger) {}\\n\\n  handleClick() {\\n    this.logger.writeCount(5);\\n  }\\n}\",\n",
       "  'difficulty': 'beginner'},\n",
       " 2: {'title': 'Adding Navigation with Angular Router',\n",
       "  'description': 'In this lesson, you will learn how to add navigation to your Angular application using the Angular Router. The Angular Router allows you to create routes and associate them with components, enabling seamless navigation within your single-page application. It also allows you to handle browser history and create dynamic URLs for different products. By the end of this lesson, you will be able to navigate to specific product pages, modify the URL path based on the selected product, and display the corresponding product details.',\n",
       "  'code': 'ng generate component product-details',\n",
       "  'difficulty': 'beginner'},\n",
       " 3: {'title': 'Using forms for user input',\n",
       "  'description': 'In this lesson, we will learn how to use forms in Angular to collect user information. We will focus on setting up the form model, handling form submission, and displaying form fields.',\n",
       "  'code': \"import { Component } from '@angular/core';\\nimport { FormBuilder } from '@angular/forms';\\n\\nimport { CartService } from '../cart.service';\\n\\n@Component({\\n  selector: 'app-cart',\\n  templateUrl: './cart.component.html',\\n  styleUrls: ['./cart.component.css']\\n})\\nexport class CartComponent {\\n\\n  items = this.cartService.getItems();\\n\\n  checkoutForm = this.formBuilder.group({\\n    name: '',\\n    address: ''\\n  });\\n\\n  constructor(\\n    private cartService: CartService,\\n    private formBuilder: FormBuilder,\\n  ) {}\\n\\n  onSubmit(): void {\\n    // Process checkout data here\\n    this.items = this.cartService.clearCart();\\n    console.warn('Your order has been submitted', this.checkoutForm.value);\\n    this.checkoutForm.reset();\\n  }\\n}\",\n",
       "  'difficulty': 'intermediate'},\n",
       " 4: {'title': 'Setting up the local environment and workspace',\n",
       "  'description': 'This guide explains how to set up your environment for Angular development using the Angular CLI tool. It includes information about prerequisites, installing the CLI, creating an initial workspace and starter app, and running that app locally to verify your setup.',\n",
       "  'code': 'npm install -g @angular/cli',\n",
       "  'difficulty': 'beginner'}}"
      ]
     },
     "execution_count": 142,
     "metadata": {},
     "output_type": "execute_result"
    }
   ],
   "source": [
    "# convert blinks to json\n",
    "import json\n",
    "\n",
    "def remove_newlines(json_str):\n",
    "    # Replace newline characters outside of double quotes\n",
    "    cleansed_str = \"\"\n",
    "    inside_quotes = False\n",
    "    for ch in json_str:\n",
    "        if ch == '\"':\n",
    "            inside_quotes = not inside_quotes\n",
    "        if ch != '\\n' or inside_quotes:\n",
    "            cleansed_str += ch\n",
    "\n",
    "    # Check if the cleansed string is valid JSON\n",
    "    try:\n",
    "        json.loads(cleansed_str)\n",
    "    except json.JSONDecodeError:\n",
    "        print(\"Error: The cleansed string is not valid JSON.\")\n",
    "        return json_str  \n",
    "\n",
    "    return cleansed_str\n",
    "\n",
    "\n",
    "for index, blink in blinks.items():\n",
    "    cleansed_blink = remove_newlines(blink)\n",
    "    blink_json = json.loads(cleansed_blink)\n",
    "    blinks[index] = blink_json\n",
    "blinks"
   ]
  }
 ],
 "metadata": {
  "kernelspec": {
   "display_name": ".venv",
   "language": "python",
   "name": "python3"
  },
  "language_info": {
   "codemirror_mode": {
    "name": "ipython",
    "version": 3
   },
   "file_extension": ".py",
   "mimetype": "text/x-python",
   "name": "python",
   "nbconvert_exporter": "python",
   "pygments_lexer": "ipython3",
   "version": "3.10.6"
  },
  "orig_nbformat": 4
 },
 "nbformat": 4,
 "nbformat_minor": 2
}
