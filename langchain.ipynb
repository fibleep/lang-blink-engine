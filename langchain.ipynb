{
 "cells": [
  {
   "cell_type": "code",
   "execution_count": 1,
   "metadata": {},
   "outputs": [
    {
     "name": "stdout",
     "output_type": "stream",
     "text": [
      " Angular Documentation Angular is an application-design framework and development platform for creating efficient and sophisticated single-page apps. These Angular docs help you learn and use the Angular framework and development platform, from your first application to optimizing complex single-page applications for enterprises. Tutorials and guides include downloadable examples to help you start your projects. Assumptions These docs assume that you are already familiar with HTML, CSS, JavaScript, and some of the tools from the latest standards, such as classes and modules. The code samples are written using TypeScript. Most Angular code can be written with just the latest JavaScript, using types for dependency injection, and using decorators for metadata. Feedback We want to hear from you. Report problems or submit suggestions for future docs. Contribute to Angular docs by creating pull requests on the Angular GitHub repository. See Contributing to Angular for information about submission guidelines. Our community values respectful, supportive communication. Please consult and adhere to the Code of Conduct.\n",
      "\n",
      "    © 2010–2023 Google, Inc.Licensed under the Creative Commons Attribution License 4.0.\n",
      "https://angular.io/docs\n",
      "\n",
      "\n",
      "\n"
     ]
    }
   ],
   "source": [
    "# Setting up the environment\n",
    "\n",
    "import pandas as pd\n",
    "from dotenv import load_dotenv\n",
    "import os \n",
    "\n",
    "load_dotenv()\n",
    "\n",
    "df: pd.Series = pd.read_json('db.json',typ='series')\n",
    "\n",
    "df = df[:5]\n",
    "\n",
    "from utils.html_tools import extract_text\n",
    "\n",
    "df = df.apply(lambda x: extract_text(x))\n",
    "print(df[0])"
   ]
  },
  {
   "cell_type": "code",
   "execution_count": 2,
   "metadata": {},
   "outputs": [],
   "source": [
    "from utils.open_ai_tools import parse_to_blink\n",
    "import openai\n",
    "# OpenAI Integration\n",
    "OPENAI_API_KEY = os.environ.get(\"OPENAI_API_KEY\", \"OOPS, please set env var called 'OPEN_AI_API_KEY'\")"
   ]
  },
  {
   "cell_type": "code",
   "execution_count": 3,
   "metadata": {},
   "outputs": [
    {
     "name": "stderr",
     "output_type": "stream",
     "text": [
      "/home/fifi/Repositories/lang-blink-engine/.venv/lib/python3.10/site-packages/langchain/llms/openai.py:171: UserWarning: You are trying to use a chat model. This way of initializing it is no longer supported. Instead, please use: `from langchain.chat_models import ChatOpenAI`\n",
      "  warnings.warn(\n",
      "/home/fifi/Repositories/lang-blink-engine/.venv/lib/python3.10/site-packages/langchain/llms/openai.py:716: UserWarning: You are trying to use a chat model. This way of initializing it is no longer supported. Instead, please use: `from langchain.chat_models import ChatOpenAI`\n",
      "  warnings.warn(\n"
     ]
    }
   ],
   "source": [
    "# Langchain\n",
    "from langchain.llms import OpenAI\n",
    "llm = OpenAI(openai_api_key=OPENAI_API_KEY, max_tokens=-1,model_name=\"gpt-4\")\n",
    "from langchain import PromptTemplate\n",
    "\n",
    "template = \"\"\"\n",
    "You are a programming teacher. You talk only in json and you dont use newline characters outside of json values.\n",
    "Generate a json response that teaches something and explains a concept from the provided HTML content (make the lesson universal, IMPORTANT! This is used in a 3rd party app, dont make any references to the original docs), I will kill myself if i see anything else. adhering to this JSON structure: \n",
    "(\n",
    "\"title\": \"<title>\",\n",
    "\"description\": \"<explanation>\", # Make this sound human\n",
    "\"code\": \"<code>\"\n",
    "\"difficulty\": \"<beginner | intermediate | advanced>\"\n",
    ")\n",
    "\n",
    "HTML content to convert into a blink: {html}\n",
    "\"\"\"\n",
    "\n",
    "prompt = PromptTemplate(\n",
    "    input_variables=[\"html\"],\n",
    "    template=template,\n",
    ")\n",
    "from utils.open_ai_tools import truncate_text\n",
    "\n",
    "blinks = {}\n",
    "for index, i in enumerate(df.values):\n",
    "    parsed_text = truncate_text(i, 1800)\n",
    "    blink_prompt = prompt.format(html=parsed_text)\n",
    "    blinks[index] = llm.predict(blink_prompt)"
   ]
  },
  {
   "cell_type": "code",
   "execution_count": 4,
   "metadata": {},
   "outputs": [
    {
     "data": {
      "text/plain": [
       "{0: '{\\n\"title\": \"Introduction to Angular\",\\n\"description\": \"Angular is a robust application-design framework used for creating efficient and sophisticated single-page apps. You can use it for a range of applications, from your first app to very complex enterprise-level single-page apps. It comes with a wealth of tutorials and guides, including examples that you can download and use as a starting point for your projects. However, Angular assumes that you have prior knowledge of HTML, CSS, JavaScript, and some features of the latest standards like classes and modules. The code samples in Angular are written mostly in TypeScript, but you can write most Angular code with just the most recent version of JavaScript, using types for dependency injection and decorators for adding metadata to your code. It\\'s also worth noting that Angular encourages feedback and contributions. You can submit suggestions, report issues, or contribute to the documentation by creating pull requests on the Angular GitHub repository.\",\\n\"code\": \"No code snippet is provided in the content\",\\n\"difficulty\": \"beginner\"\\n}',\n",
       " 1: 'Component by using the constructor. import { Component } from \\'@angular/core\\';\\nimport { Logger } from \\'./logger.service\\';\\n\\n@Component({\\n  selector: \\'hello-world-di\\',\\n  template: `\\n  <h2>Hello World: DI!</h2>\\n  <button (click)=\"onClick()\">Increase Count</button>\\n  <p>Button has been clicked {{count}} times.</p>\\n  `\\n})\\nexport class HelloWorldDIComponent {\\n  count = 0;\\n  constructor(private logger: Logger) { }\\n\\n  onClick() {\\n    this.count++;\\n    this.logger.writeCount(this.count);\\n  }\\n} Angular then instantiates the Logger service and the HelloWorldDIComponent, and keeps track of them in its container. Here\\'s the JSON lesson for Angular:  \\n{\\n\"title\": \"Understanding Angular Components & Dependency Injection\",\\n\"description\": \"Angular is a TypeScript-based development platform that includes a component-based framework, libraries for varied features, and a suite of developer tools. Components are the building blocks of an Angular application. Each component contains a TypeScript class marked by a @Component() decorator, an HTML template, and styles. The @Component() decorator specifies Angular-specific information like CSS selector, HTML template and optional CSS styles. A simple example is shown in the code snippet. Additionally, Angular uses \\'Dependency Injection\\' to help you declare your dependencies without worrying about their instantiation. It means you can focus on the logic of your code as Angular will manage the object creation process for you. This significantly contributes to making your code more testable and flexible. An example of Dependency Injection in Angular is also shown below.\",\\n\"code\": \"A minimal Angular component:-\\\\n\\\\nimport { Component } from \\'@angular/core\\';\\\\n\\\\n@Component({\\\\n  selector: \\'hello-world\\',\\\\n  template: `\\\\n    <h2>Hello World</h2>\\\\n    <p>This is my first component!</p>\\\\n  `\\\\n})\\\\nexport class HelloWorldComponent {\\\\n  // The code in this class drives the component\\'s behavior.\\\\n}\\\\n\\\\nDependency Injection in Angular:-\\\\n\\\\nimport { Injectable } from \\'@angular/core\\';\\\\n\\\\n@Injectable({providedIn: \\'root\\'})\\\\nexport class Logger {\\\\n  writeCount(count: number) {\\\\n    console.warn(count);\\\\n  }\\\\n}\\\\n\\\\nimport { Component } from \\'@angular/core\\';\\\\nimport { Logger } from \\'./logger.service\\';\\\\n\\\\n@Component({\\\\n  selector: \\'hello-world-di\\',\\\\n  template: `\\\\n  <h2>Hello World: DI!</h2>\\\\n  <button (click)=\\\\\"onClick()\\\\\">Increase Count</button>\\\\n  <p>Button has been clicked {{count}} times.</p>\\\\n  `\\\\n})\\\\nexport class HelloWorldDIComponent {\\\\n  count = 0;\\\\n  constructor(private logger: Logger) { }\\\\n\\\\n  onClick() {\\\\n    this.count++;\\\\n    this.logger.writeCount(this.count);\\\\n  }\\\\n}\",\\n\"difficulty\": \"beginner\"\\n}',\n",
       " 2: '{\\n\"title\": \"Adding Navigation to Angular Applications\",\\n\"description\": \"This lesson teaches you how to add navigation features to your Angular application. This involves associating a URL path with a component in your app and using Angular\\'s Router to handle the display of components based on the browser\\'s URL and your defined routes. By the end of the tutorial, you will be able to type a URL in the address bar to navigate to a corresponding product page, click links on the page to navigate within your single-page application, and use the browser\\'s back and forward buttons to navigate the browser history intuitively.\",\\n\"code\": \"ng generate component product-details   \\n@NgModule({\\n  imports: [\\n    BrowserModule,\\n    ReactiveFormsModule,\\n    RouterModule.forRoot([\\n      { path: \\'\\', component: ProductListComponent },\\n      { path: \\'products/:productId\\', component: ProductDetailsComponent },\\n    ])\\n  ]\\n  declarations: [\\n    AppComponent,\\n    TopBarComponent,\\n    ProductListComponent,\\n    ProductAlertsComponent,\\n    ProductDetailsComponent,\\n  ],\\n}\\n\\nimport { Component, OnInit } from \\'@angular/core\\';\\nimport { ActivatedRoute } from \\'@angular/router\\';\\nimport { Product, products } from \\'../products\\';\\nexport class ProductDetailsComponent implements OnInit {\\n  product: Product | undefined;\\n  constructor(private route: ActivatedRoute) { }\\n}\\nngOnInit() {\\n  const routeParams = this.route.snapshot.paramMap;\\n  const productIdFromRoute = Number(routeParams.get(\\'productId\\'));\\n  this.product = products.find(product => product.id === productIdFromRoute);\\n}\",  \\n\"difficulty\": \"intermediate\"\\n}',\n",
       " 3: '{\\n\"title\": \"Form Handling in Angular using FormBuilder and FormGroup\",\\n\"description\": \"In Angular, it is a common design pattern to use forms to collect user input. To create a form, it is recommended to use FormBuilder and FormGroup. These two classes are part of the @angular/forms package provided by Angular. FormBuilder offers methods to quickly generate form controls, while FormGroup is to group those controls.\\\\nFormBuilder service creates an instance through dependency injection. Then use formBuilder.group() to create form models that contain different content such as name, address etc. Combining form controls ensures form data remains consistent.\\\\n\\\\nTo retrieve data from the form use onSubmit() method. This methods can send form data to a desired destination or process it accordingly. For instance, to clear the form after submission we can call the reset() method.\\\\n\\\\nRemember to bind the formGroup in HTML  using formGroup property to attain functionality. Then, use the ngSubmit event binding to listen for the form submission and call the onSubmit() method with the form value. Forms in angular are fundamentally bound to JavaScript/TypeScript objects, making them powerful and flexible.\", \\n\"code\": \"import { Component } from \\'@angular/core\\';\\\\nimport { FormBuilder } from \\'@angular/forms\\';\\\\n\\\\nimport { CartService } from \\'../cart.service\\';\\\\n\\\\n@Component({\\\\n selector: \\'app-cart\\',\\\\n  templateUrl: \\'./cart.component.html\\',\\\\n  styleUrls: [\\'./cart.component.css\\']\\\\n})\\\\nexport class CartComponent {\\\\n\\\\n items = this.cartService.getItems();\\\\n\\\\n checkoutForm = this.formBuilder.group({\\\\n   name: \\'\\',\\\\n    address: \\'\\'\\\\n  });\\\\n\\\\n constructor(\\\\n   private cartService: CartService,\\\\n   private formBuilder: FormBuilder,\\\\n ) {}\\\\n\\\\n onSubmit(): void {\\\\n   // Process checkout data here\\\\n   this.items = this.cartService.clearCart();\\\\n   console.warn(\\'Your order has been submitted\\', this.checkoutForm.value);\\\\n   this.checkoutForm.reset();\\\\n }\\\\n}\", \\n\"difficulty\": \"intermediate\"\\n}',\n",
       " 4: '{\\n\"title\": \"Setting Up Angular Environment Using Angular CLI\",\\n\"description\": \"This lesson will teach you how to set up your local environment for Angular development with the help of Angular CLI tool. You\\'ll gain insights about the prerequisites, how to install the CLI, and how to create your first workspace and application. You will also learn how to run your app locally to confirm your setup. The prerequisites comprise being familiar with JavaScript, HTML, CSS. Having Knowledge of TypeScript is beneficial, though not necessary. You also require Node.js and npm package manager installed on your local system. Angular relies on an active LTS or maintenance LTS version of Node.js and the npm package manager for many features and functions. After having the required setup, you will learn how to install Angular CLI by running the command \\'npm install -g @angular/cli\\' in your terminal. You will then create a new workspace and an initial application using the CLI by entering the command \\'ng new my-app\\'. Finally, you\\'ll learn how to serve your application locally using the command \\'cd my-app\\' and \\'ng serve --open\\'. This lesson will give you a foundational understanding of how to start your journey with Angular development.\",\\n\"code\": \"npm install -g @angular/cli; ng new my-app; cd my-app; ng serve --open\",\\n\"difficulty\": \"beginner\"\\n}'}"
      ]
     },
     "execution_count": 4,
     "metadata": {},
     "output_type": "execute_result"
    }
   ],
   "source": [
    "blinks"
   ]
  },
  {
   "cell_type": "code",
   "execution_count": 5,
   "metadata": {},
   "outputs": [
    {
     "name": "stdout",
     "output_type": "stream",
     "text": [
      "Error: The cleansed string is not valid JSON.\n"
     ]
    },
    {
     "ename": "JSONDecodeError",
     "evalue": "Expecting value: line 1 column 1 (char 0)",
     "output_type": "error",
     "traceback": [
      "\u001b[0;31m---------------------------------------------------------------------------\u001b[0m",
      "\u001b[0;31mJSONDecodeError\u001b[0m                           Traceback (most recent call last)",
      "Cell \u001b[0;32mIn[5], line 26\u001b[0m\n\u001b[1;32m     24\u001b[0m \u001b[39mfor\u001b[39;00m index, blink \u001b[39min\u001b[39;00m blinks\u001b[39m.\u001b[39mitems():\n\u001b[1;32m     25\u001b[0m     cleansed_blink \u001b[39m=\u001b[39m remove_newlines(blink)\n\u001b[0;32m---> 26\u001b[0m     blink_json \u001b[39m=\u001b[39m json\u001b[39m.\u001b[39;49mloads(cleansed_blink)\n\u001b[1;32m     27\u001b[0m     blinks[index] \u001b[39m=\u001b[39m blink_json\n\u001b[1;32m     28\u001b[0m blinks\n",
      "File \u001b[0;32m/usr/lib/python3.10/json/__init__.py:346\u001b[0m, in \u001b[0;36mloads\u001b[0;34m(s, cls, object_hook, parse_float, parse_int, parse_constant, object_pairs_hook, **kw)\u001b[0m\n\u001b[1;32m    341\u001b[0m     s \u001b[39m=\u001b[39m s\u001b[39m.\u001b[39mdecode(detect_encoding(s), \u001b[39m'\u001b[39m\u001b[39msurrogatepass\u001b[39m\u001b[39m'\u001b[39m)\n\u001b[1;32m    343\u001b[0m \u001b[39mif\u001b[39;00m (\u001b[39mcls\u001b[39m \u001b[39mis\u001b[39;00m \u001b[39mNone\u001b[39;00m \u001b[39mand\u001b[39;00m object_hook \u001b[39mis\u001b[39;00m \u001b[39mNone\u001b[39;00m \u001b[39mand\u001b[39;00m\n\u001b[1;32m    344\u001b[0m         parse_int \u001b[39mis\u001b[39;00m \u001b[39mNone\u001b[39;00m \u001b[39mand\u001b[39;00m parse_float \u001b[39mis\u001b[39;00m \u001b[39mNone\u001b[39;00m \u001b[39mand\u001b[39;00m\n\u001b[1;32m    345\u001b[0m         parse_constant \u001b[39mis\u001b[39;00m \u001b[39mNone\u001b[39;00m \u001b[39mand\u001b[39;00m object_pairs_hook \u001b[39mis\u001b[39;00m \u001b[39mNone\u001b[39;00m \u001b[39mand\u001b[39;00m \u001b[39mnot\u001b[39;00m kw):\n\u001b[0;32m--> 346\u001b[0m     \u001b[39mreturn\u001b[39;00m _default_decoder\u001b[39m.\u001b[39;49mdecode(s)\n\u001b[1;32m    347\u001b[0m \u001b[39mif\u001b[39;00m \u001b[39mcls\u001b[39m \u001b[39mis\u001b[39;00m \u001b[39mNone\u001b[39;00m:\n\u001b[1;32m    348\u001b[0m     \u001b[39mcls\u001b[39m \u001b[39m=\u001b[39m JSONDecoder\n",
      "File \u001b[0;32m/usr/lib/python3.10/json/decoder.py:337\u001b[0m, in \u001b[0;36mJSONDecoder.decode\u001b[0;34m(self, s, _w)\u001b[0m\n\u001b[1;32m    332\u001b[0m \u001b[39mdef\u001b[39;00m \u001b[39mdecode\u001b[39m(\u001b[39mself\u001b[39m, s, _w\u001b[39m=\u001b[39mWHITESPACE\u001b[39m.\u001b[39mmatch):\n\u001b[1;32m    333\u001b[0m \u001b[39m    \u001b[39m\u001b[39m\"\"\"Return the Python representation of ``s`` (a ``str`` instance\u001b[39;00m\n\u001b[1;32m    334\u001b[0m \u001b[39m    containing a JSON document).\u001b[39;00m\n\u001b[1;32m    335\u001b[0m \n\u001b[1;32m    336\u001b[0m \u001b[39m    \"\"\"\u001b[39;00m\n\u001b[0;32m--> 337\u001b[0m     obj, end \u001b[39m=\u001b[39m \u001b[39mself\u001b[39;49m\u001b[39m.\u001b[39;49mraw_decode(s, idx\u001b[39m=\u001b[39;49m_w(s, \u001b[39m0\u001b[39;49m)\u001b[39m.\u001b[39;49mend())\n\u001b[1;32m    338\u001b[0m     end \u001b[39m=\u001b[39m _w(s, end)\u001b[39m.\u001b[39mend()\n\u001b[1;32m    339\u001b[0m     \u001b[39mif\u001b[39;00m end \u001b[39m!=\u001b[39m \u001b[39mlen\u001b[39m(s):\n",
      "File \u001b[0;32m/usr/lib/python3.10/json/decoder.py:355\u001b[0m, in \u001b[0;36mJSONDecoder.raw_decode\u001b[0;34m(self, s, idx)\u001b[0m\n\u001b[1;32m    353\u001b[0m     obj, end \u001b[39m=\u001b[39m \u001b[39mself\u001b[39m\u001b[39m.\u001b[39mscan_once(s, idx)\n\u001b[1;32m    354\u001b[0m \u001b[39mexcept\u001b[39;00m \u001b[39mStopIteration\u001b[39;00m \u001b[39mas\u001b[39;00m err:\n\u001b[0;32m--> 355\u001b[0m     \u001b[39mraise\u001b[39;00m JSONDecodeError(\u001b[39m\"\u001b[39m\u001b[39mExpecting value\u001b[39m\u001b[39m\"\u001b[39m, s, err\u001b[39m.\u001b[39mvalue) \u001b[39mfrom\u001b[39;00m \u001b[39mNone\u001b[39;00m\n\u001b[1;32m    356\u001b[0m \u001b[39mreturn\u001b[39;00m obj, end\n",
      "\u001b[0;31mJSONDecodeError\u001b[0m: Expecting value: line 1 column 1 (char 0)"
     ]
    }
   ],
   "source": [
    "# convert blinks to json\n",
    "import json\n",
    "\n",
    "def remove_newlines(json_str):\n",
    "    # Replace newline characters outside of double quotes\n",
    "    cleansed_str = \"\"\n",
    "    inside_quotes = False\n",
    "    for ch in json_str:\n",
    "        if ch == '\"':\n",
    "            inside_quotes = not inside_quotes\n",
    "        if ch != '\\n' or inside_quotes:\n",
    "            cleansed_str += ch\n",
    "\n",
    "    # Check if the cleansed string is valid JSON\n",
    "    try:\n",
    "        json.loads(cleansed_str)\n",
    "    except json.JSONDecodeError:\n",
    "        print(\"Error: The cleansed string is not valid JSON.\")\n",
    "        return json_str  \n",
    "\n",
    "    return cleansed_str\n",
    "\n",
    "\n",
    "for index, blink in blinks.items():\n",
    "    cleansed_blink = remove_newlines(blink)\n",
    "    blink_json = json.loads(cleansed_blink)\n",
    "    blinks[index] = blink_json\n",
    "blinks"
   ]
  },
  {
   "cell_type": "code",
   "execution_count": null,
   "metadata": {},
   "outputs": [],
   "source": [
    "# Write blinks to json file\n",
    "import json\n",
    "with open('blinks.json', 'w') as fp:\n",
    "    json.dump(blinks, fp)"
   ]
  }
 ],
 "metadata": {
  "kernelspec": {
   "display_name": ".venv",
   "language": "python",
   "name": "python3"
  },
  "language_info": {
   "codemirror_mode": {
    "name": "ipython",
    "version": 3
   },
   "file_extension": ".py",
   "mimetype": "text/x-python",
   "name": "python",
   "nbconvert_exporter": "python",
   "pygments_lexer": "ipython3",
   "version": "3.10.6"
  },
  "orig_nbformat": 4
 },
 "nbformat": 4,
 "nbformat_minor": 2
}
