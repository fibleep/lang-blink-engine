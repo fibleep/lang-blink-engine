{
 "cells": [
  {
   "cell_type": "code",
   "execution_count": 2,
   "metadata": {},
   "outputs": [
    {
     "data": {
      "text/plain": [
       "index                                    Angular Documentation Angular is an applicati...\n",
       "guide/what-is-angular                    What is Angular? This topic can help you unde...\n",
       "start/start-routing                      Adding navigation This guide builds on the fi...\n",
       "start/start-forms                        Using forms for user input This guide builds ...\n",
       "guide/setup-local                        Setting up the local environment and workspac...\n",
       "guide/understanding-angular-overview     Understanding Angular To understand the capab...\n",
       "guide/component-overview                 Angular components overview Components are th...\n",
       "guide/elements                           Angular elements overview Angular elements ar...\n",
       "start                                    Getting started with Angular Welcome to Angul...\n",
       "start/start-data                         Managing data This guide builds on the second...\n",
       "dtype: object"
      ]
     },
     "execution_count": 2,
     "metadata": {},
     "output_type": "execute_result"
    }
   ],
   "source": [
    "# Setting up the environment\n",
    "\n",
    "import pandas as pd\n",
    "from dotenv import load_dotenv\n",
    "import os \n",
    "\n",
    "load_dotenv()\n",
    "\n",
    "df: pd.Series = pd.read_json('db.json',typ='series')\n",
    "\n",
    "df = df[:5]\n",
    "\n",
    "from utils.html_tools import extract_text\n",
    "\n",
    "df = df.apply(lambda x: extract_text(x))\n",
    "df"
   ]
  },
  {
   "cell_type": "code",
   "execution_count": 5,
   "metadata": {},
   "outputs": [],
   "source": [
    "from utils.open_ai_tools import parse_to_blink\n",
    "import openai\n",
    "# OpenAI Integration\n",
    "OPENAI_API_KEY = os.environ.get(\"OPENAI_API_KEY\", \"OOPS, please set env var called 'OPEN_AI_API_KEY'\")"
   ]
  },
  {
   "cell_type": "code",
   "execution_count": null,
   "metadata": {},
   "outputs": [],
   "source": [
    "# Langchain\n",
    "from langchain.llms import OpenAI\n",
    "llm = OpenAI(openai_api_key=OPENAI_API_KEY, max_tokens=-1,model_name=\"text-davinci-003\")\n",
    "from langchain import PromptTemplate\n",
    "\n",
    "template = \"\"\"\n",
    "You are a programming teacher.\n",
    "Avoid newline characters outside of code blocks.\n",
    "Generate a concise and informative 'blink' from the provided HTML content, adhering to this JSON structure: \n",
    "(\n",
    "\"title\": \"<title>\",\n",
    "\"description\": \"<description>\",\n",
    "\"code\": \"<code>\", # optional, up to 15 lines, leave empty if not applicable\n",
    "\"difficulty\": \"<beginner | intermediate | advanced>\"\n",
    ")\n",
    "\n",
    "HTML content to convert into a blink: {html}\n",
    "\"\"\"\n",
    "\n",
    "prompt = PromptTemplate(\n",
    "    input_variables=[\"html\"],\n",
    "    template=template,\n",
    ")\n",
    "from utils.open_ai_tools import truncate_text\n",
    "\n",
    "blinks = {}\n",
    "for index, i in enumerate(df.values):\n",
    "    parsed_text = truncate_text(i, 1800)\n",
    "    blink_prompt = prompt.format(html=parsed_text)\n",
    "    blinks[index] = llm.predict(blink_prompt)"
   ]
  },
  {
   "cell_type": "code",
   "execution_count": null,
   "metadata": {},
   "outputs": [],
   "source": [
    "blinks"
   ]
  }
 ],
 "metadata": {
  "kernelspec": {
   "display_name": ".venv",
   "language": "python",
   "name": "python3"
  },
  "language_info": {
   "codemirror_mode": {
    "name": "ipython",
    "version": 3
   },
   "file_extension": ".py",
   "mimetype": "text/x-python",
   "name": "python",
   "nbconvert_exporter": "python",
   "pygments_lexer": "ipython3",
   "version": "3.10.6"
  },
  "orig_nbformat": 4
 },
 "nbformat": 4,
 "nbformat_minor": 2
}
