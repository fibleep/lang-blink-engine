{
 "cells": [
  {
   "cell_type": "code",
   "execution_count": 8,
   "metadata": {},
   "outputs": [
    {
     "name": "stdout",
     "output_type": "stream",
     "text": [
      " Angular Documentation Angular is an application-design framework and development platform for creating efficient and sophisticated single-page apps. These Angular docs help you learn and use the Angular framework and development platform, from your first application to optimizing complex single-page applications for enterprises. Tutorials and guides include downloadable examples to help you start your projects. Assumptions These docs assume that you are already familiar with HTML, CSS, JavaScript, and some of the tools from the latest standards, such as classes and modules. The code samples are written using TypeScript. Most Angular code can be written with just the latest JavaScript, using types for dependency injection, and using decorators for metadata. Feedback We want to hear from you. Report problems or submit suggestions for future docs. Contribute to Angular docs by creating pull requests on the Angular GitHub repository. See Contributing to Angular for information about submission guidelines. Our community values respectful, supportive communication. Please consult and adhere to the Code of Conduct.\n",
      "\n",
      "    © 2010–2023 Google, Inc.Licensed under the Creative Commons Attribution License 4.0.\n",
      "https://angular.io/docs\n",
      "\n",
      "\n",
      "\n"
     ]
    }
   ],
   "source": [
    "# Setting up the environment\n",
    "\n",
    "import pandas as pd\n",
    "from dotenv import load_dotenv\n",
    "import os \n",
    "\n",
    "load_dotenv()\n",
    "\n",
    "df: pd.Series = pd.read_json('db.json',typ='series')\n",
    "\n",
    "df = df[:5]\n",
    "\n",
    "from utils.html_tools import extract_text\n",
    "\n",
    "df = df.apply(lambda x: extract_text(x))\n",
    "print(df[0])"
   ]
  },
  {
   "cell_type": "code",
   "execution_count": 9,
   "metadata": {},
   "outputs": [],
   "source": [
    "from utils.open_ai_tools import parse_to_blink\n",
    "import openai\n",
    "# OpenAI Integration\n",
    "OPENAI_API_KEY = os.environ.get(\"OPENAI_API_KEY\", \"OOPS, please set env var called 'OPEN_AI_API_KEY'\")"
   ]
  },
  {
   "cell_type": "code",
   "execution_count": 10,
   "metadata": {},
   "outputs": [
    {
     "name": "stderr",
     "output_type": "stream",
     "text": [
      "/home/fifi/Repositories/lang-blink-engine/.venv/lib/python3.10/site-packages/langchain/llms/openai.py:171: UserWarning: You are trying to use a chat model. This way of initializing it is no longer supported. Instead, please use: `from langchain.chat_models import ChatOpenAI`\n",
      "  warnings.warn(\n",
      "/home/fifi/Repositories/lang-blink-engine/.venv/lib/python3.10/site-packages/langchain/llms/openai.py:716: UserWarning: You are trying to use a chat model. This way of initializing it is no longer supported. Instead, please use: `from langchain.chat_models import ChatOpenAI`\n",
      "  warnings.warn(\n"
     ]
    }
   ],
   "source": [
    "# Langchain\n",
    "from langchain.llms import OpenAI\n",
    "llm = OpenAI(openai_api_key=OPENAI_API_KEY, max_tokens=-1,model_name=\"gpt-3.5-turbo-0613\")\n",
    "from langchain import PromptTemplate\n",
    "\n",
    "template = \"\"\"\n",
    "You are a programming teacher. You talk only in json and you dont use newline characters outside of json values.\n",
    "Generate a json response that teaches something and explains a concept from the provided HTML content (make the lesson universal, IMPORTANT! This is used in a 3rd party app, dont make any references to the original docs), I will kill myself if i see anything else. adhering to this JSON structure: \n",
    "(\n",
    "\"title\": \"<title>\",\n",
    "\"description\": \"<explanation>\", # Make this sound human\n",
    "\"code\": \"<code>\"\n",
    "\"difficulty\": \"<beginner | intermediate | advanced>\"\n",
    ")\n",
    "\n",
    "HTML content to convert into a blink: {html}\n",
    "\"\"\"\n",
    "\n",
    "prompt = PromptTemplate(\n",
    "    input_variables=[\"html\"],\n",
    "    template=template,\n",
    ")\n",
    "from utils.open_ai_tools import truncate_text\n",
    "\n",
    "blinks = {}\n",
    "for index, i in enumerate(df.values):\n",
    "    parsed_text = truncate_text(i, 1800)\n",
    "    blink_prompt = prompt.format(html=parsed_text)\n",
    "    blinks[index] = llm.predict(blink_prompt)"
   ]
  },
  {
   "cell_type": "code",
   "execution_count": 11,
   "metadata": {},
   "outputs": [
    {
     "data": {
      "text/plain": [
       "{0: '{\\n\"title\": \"Introduction to Angular\",\\n\"description\": \"Angular is an application-design framework and development platform for creating efficient and sophisticated single-page apps. It is widely used and offers a comprehensive set of tools and features. With Angular, you can build robust and interactive web applications that provide a seamless user experience.\",\\n\"code\": \"<!-- Include Angular script -->\\\\n<script src=\\\\\"angular.min.js\\\\\"></script>\\\\n\\\\n<!-- Create your Angular module -->\\\\n<script>\\\\n    var myApp = angular.module(\\'myApp\\', []);\\\\n</script>\\\\n\\\\n<!-- Create a controller to handle data and logic -->\\\\n<script>\\\\n    myApp.controller(\\'myController\\', function($scope) {\\\\n        $scope.message = \\'Hello, World!\\';\\\\n    });\\\\n</script>\\\\n\\\\n<!-- Use Angular directives to bind data to HTML elements -->\\\\n<div ng-app=\\\\\"myApp\\\\\" ng-controller=\\\\\"myController\\\\\">\\\\n    {{ message }}\\\\n</div>\",\\n\"difficulty\": \"beginner\"\\n}',\n",
       " 1: '{\\n  \"title\": \"Understanding Angular\",\\n  \"description\": \"In this lesson, we will learn what Angular is and how it can benefit your web applications. Angular is a development platform built on TypeScript that offers a component-based framework for building scalable web applications. It includes a variety of features such as routing, forms management, and client-server communication. With Angular, you can easily develop, build, test, and update your code. It also provides a strong ecosystem of developers, library authors, and content creators. Let\\'s dive deeper into the core concepts of Angular.\",\\n  \"code\": \"import { Component } from \\'@angular/core\\';\\\\n\\\\n@Component({\\\\n  selector: \\'hello-world\\',\\\\n  template: `\\\\n    <h2>Hello World</h2>\\\\n    <p>This is my first component!</p>\\\\n  `\\\\n})\\\\nexport class HelloWorldComponent {\\\\n  // The code in this class drives the component\\'s behavior.\\\\n}\",\\n  \"difficulty\": \"beginner\"\\n}',\n",
       " 2: '{\\n  \"title\": \"Adding Navigation with Angular Router\",\\n  \"description\": \"This lesson will teach you how to add navigation to your Angular application using the Angular Router. You will learn how to create routes, associate URLs with components, and navigate between pages.\",\\n  \"code\": \"// Generate a new component for product details\\\\nng generate component product-details\\\\n\\\\n// In app.module.ts, add a route for product details\\\\nRouterModule.forRoot([\\\\n  { path: \\'\\', component: ProductListComponent },\\\\n  { path: \\'products/:productId\\', component: ProductDetailsComponent },\\\\n])\",\\n  \"difficulty\": \"intermediate\"\\n}',\n",
       " 3: '{\\n  \"title\": \"Using Forms for User Input\",\\n  \"description\": \"Forms are an essential part of web development as they allow users to input data. In Angular, we can use the FormBuilder service to conveniently generate form controls. This guide will walk you through the steps of setting up a form-based checkout feature in an Angular app.\",\\n  \"code\": \"import { Component } from \\'@angular/core\\';\\\\nimport { FormBuilder } from \\'@angular/forms\\';\\\\n\\\\nimport { CartService } from \\'../cart.service\\';\\\\n\\\\n@Component({\\\\n  selector: \\'app-cart\\',\\\\n  templateUrl: \\'./cart.component.html\\',\\\\n  styleUrls: [\\'./cart.component.css\\']\\\\n})\\\\nexport class CartComponent {\\\\n\\\\n  items = this.cartService.getItems();\\\\n\\\\n  checkoutForm = this.formBuilder.group({\\\\n    name: \\'\\',\\\\n    address: \\'\\'\\\\n  });\\\\n\\\\n  constructor(\\\\n    private cartService: CartService,\\\\n    private formBuilder: FormBuilder,\\\\n  ) {}\\\\n\\\\n  onSubmit(): void {\\\\n    // Process checkout data here\\\\n    this.items = this.cartService.clearCart();\\\\n    console.warn(\\'Your order has been submitted\\', this.checkoutForm.value);\\\\n    this.checkoutForm.reset();\\\\n  }\\\\n}\",\\n  \"difficulty\": \"beginner\"\\n}',\n",
       " 4: '{\\n\"title\": \"Setting up Angular development environment\",\\n\"description\": \"This lesson will guide you on setting up your local environment for Angular development using the Angular CLI tool. It covers prerequisites, installation of the CLI, creating a workspace and starter app, and running the app locally to verify your setup.\",\\n\"code\": \"Requirements:\\\\n- Node.js\\\\n- npm package manager\\\\n\\\\nTo install Angular CLI:\\\\n1. Open a terminal window\\\\n2. Run the command:\\\\n\\\\nnpm install -g @angular/cli\\\\n\\\\nNote: If you\\'re on Windows, make sure to allow the execution of PowerShell scripts by setting the execution policy.\",\\n\"difficulty\": \"beginner\"\\n}'}"
      ]
     },
     "execution_count": 11,
     "metadata": {},
     "output_type": "execute_result"
    }
   ],
   "source": [
    "blinks"
   ]
  },
  {
   "cell_type": "code",
   "execution_count": 12,
   "metadata": {},
   "outputs": [
    {
     "data": {
      "text/plain": [
       "{0: {'title': 'Introduction to Angular',\n",
       "  'description': 'Angular is an application-design framework and development platform for creating efficient and sophisticated single-page apps. It is widely used and offers a comprehensive set of tools and features. With Angular, you can build robust and interactive web applications that provide a seamless user experience.',\n",
       "  'code': '<!-- Include Angular script -->\\n<script src=\"angular.min.js\"></script>\\n\\n<!-- Create your Angular module -->\\n<script>\\n    var myApp = angular.module(\\'myApp\\', []);\\n</script>\\n\\n<!-- Create a controller to handle data and logic -->\\n<script>\\n    myApp.controller(\\'myController\\', function($scope) {\\n        $scope.message = \\'Hello, World!\\';\\n    });\\n</script>\\n\\n<!-- Use Angular directives to bind data to HTML elements -->\\n<div ng-app=\"myApp\" ng-controller=\"myController\">\\n    {{ message }}\\n</div>',\n",
       "  'difficulty': 'beginner'},\n",
       " 1: {'title': 'Understanding Angular',\n",
       "  'description': \"In this lesson, we will learn what Angular is and how it can benefit your web applications. Angular is a development platform built on TypeScript that offers a component-based framework for building scalable web applications. It includes a variety of features such as routing, forms management, and client-server communication. With Angular, you can easily develop, build, test, and update your code. It also provides a strong ecosystem of developers, library authors, and content creators. Let's dive deeper into the core concepts of Angular.\",\n",
       "  'code': \"import { Component } from '@angular/core';\\n\\n@Component({\\n  selector: 'hello-world',\\n  template: `\\n    <h2>Hello World</h2>\\n    <p>This is my first component!</p>\\n  `\\n})\\nexport class HelloWorldComponent {\\n  // The code in this class drives the component's behavior.\\n}\",\n",
       "  'difficulty': 'beginner'},\n",
       " 2: {'title': 'Adding Navigation with Angular Router',\n",
       "  'description': 'This lesson will teach you how to add navigation to your Angular application using the Angular Router. You will learn how to create routes, associate URLs with components, and navigate between pages.',\n",
       "  'code': \"// Generate a new component for product details\\nng generate component product-details\\n\\n// In app.module.ts, add a route for product details\\nRouterModule.forRoot([\\n  { path: '', component: ProductListComponent },\\n  { path: 'products/:productId', component: ProductDetailsComponent },\\n])\",\n",
       "  'difficulty': 'intermediate'},\n",
       " 3: {'title': 'Using Forms for User Input',\n",
       "  'description': 'Forms are an essential part of web development as they allow users to input data. In Angular, we can use the FormBuilder service to conveniently generate form controls. This guide will walk you through the steps of setting up a form-based checkout feature in an Angular app.',\n",
       "  'code': \"import { Component } from '@angular/core';\\nimport { FormBuilder } from '@angular/forms';\\n\\nimport { CartService } from '../cart.service';\\n\\n@Component({\\n  selector: 'app-cart',\\n  templateUrl: './cart.component.html',\\n  styleUrls: ['./cart.component.css']\\n})\\nexport class CartComponent {\\n\\n  items = this.cartService.getItems();\\n\\n  checkoutForm = this.formBuilder.group({\\n    name: '',\\n    address: ''\\n  });\\n\\n  constructor(\\n    private cartService: CartService,\\n    private formBuilder: FormBuilder,\\n  ) {}\\n\\n  onSubmit(): void {\\n    // Process checkout data here\\n    this.items = this.cartService.clearCart();\\n    console.warn('Your order has been submitted', this.checkoutForm.value);\\n    this.checkoutForm.reset();\\n  }\\n}\",\n",
       "  'difficulty': 'beginner'},\n",
       " 4: {'title': 'Setting up Angular development environment',\n",
       "  'description': 'This lesson will guide you on setting up your local environment for Angular development using the Angular CLI tool. It covers prerequisites, installation of the CLI, creating a workspace and starter app, and running the app locally to verify your setup.',\n",
       "  'code': \"Requirements:\\n- Node.js\\n- npm package manager\\n\\nTo install Angular CLI:\\n1. Open a terminal window\\n2. Run the command:\\n\\nnpm install -g @angular/cli\\n\\nNote: If you're on Windows, make sure to allow the execution of PowerShell scripts by setting the execution policy.\",\n",
       "  'difficulty': 'beginner'}}"
      ]
     },
     "execution_count": 12,
     "metadata": {},
     "output_type": "execute_result"
    }
   ],
   "source": [
    "# convert blinks to json\n",
    "import json\n",
    "\n",
    "def remove_newlines(json_str):\n",
    "    # Replace newline characters outside of double quotes\n",
    "    cleansed_str = \"\"\n",
    "    inside_quotes = False\n",
    "    for ch in json_str:\n",
    "        if ch == '\"':\n",
    "            inside_quotes = not inside_quotes\n",
    "        if ch != '\\n' or inside_quotes:\n",
    "            cleansed_str += ch\n",
    "\n",
    "    # Check if the cleansed string is valid JSON\n",
    "    try:\n",
    "        json.loads(cleansed_str)\n",
    "    except json.JSONDecodeError:\n",
    "        print(\"Error: The cleansed string is not valid JSON.\")\n",
    "        return json_str  \n",
    "\n",
    "    return cleansed_str\n",
    "\n",
    "\n",
    "for index, blink in blinks.items():\n",
    "    cleansed_blink = remove_newlines(blink)\n",
    "    blink_json = json.loads(cleansed_blink)\n",
    "    blinks[index] = blink_json\n",
    "blinks"
   ]
  },
  {
   "cell_type": "code",
   "execution_count": 13,
   "metadata": {},
   "outputs": [],
   "source": [
    "# Write blinks to json file\n",
    "import json\n",
    "with open('blinks.json', 'w') as fp:\n",
    "    json.dump(blinks, fp)"
   ]
  }
 ],
 "metadata": {
  "kernelspec": {
   "display_name": ".venv",
   "language": "python",
   "name": "python3"
  },
  "language_info": {
   "codemirror_mode": {
    "name": "ipython",
    "version": 3
   },
   "file_extension": ".py",
   "mimetype": "text/x-python",
   "name": "python",
   "nbconvert_exporter": "python",
   "pygments_lexer": "ipython3",
   "version": "3.10.6"
  },
  "orig_nbformat": 4
 },
 "nbformat": 4,
 "nbformat_minor": 2
}
